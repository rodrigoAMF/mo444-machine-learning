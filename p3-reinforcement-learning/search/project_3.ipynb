{
 "cells": [
  {
   "cell_type": "markdown",
   "source": [
    "## MO444 Project 3 - Reinforcement Learning\n",
    "\n",
    "* Rodrigo Araújo Marinho Franco - RA: 233569\n",
    "* Felipe Marinho Tavares - RA: 265680\n",
    "\n",
    "### Contributions:\n",
    "* Rodrigo\n",
    " * ...\n",
    "* Felipe\n",
    " * ..."
   ],
   "metadata": {
    "collapsed": false,
    "pycharm": {
     "name": "#%% md\n"
    }
   }
  },
  {
   "cell_type": "markdown",
   "source": [
    "# PART I - Evolutionary Model"
   ],
   "metadata": {
    "collapsed": false,
    "pycharm": {
     "name": "#%% md\n"
    }
   }
  },
  {
   "cell_type": "code",
   "execution_count": null,
   "outputs": [],
   "source": [],
   "metadata": {
    "collapsed": false,
    "pycharm": {
     "name": "#%%\n"
    }
   }
  },
  {
   "cell_type": "markdown",
   "source": [
    "# PART II - Reinforcement Learning"
   ],
   "metadata": {
    "collapsed": false
   }
  },
  {
   "cell_type": "code",
   "execution_count": 1,
   "outputs": [],
   "source": [
    "from util import *\n",
    "\n",
    "import pacman as pm\n",
    "import layout as l\n",
    "import textDisplay\n",
    "import pacmanAgents, ghostAgents\n",
    "\n",
    "try:\n",
    "    import boinc\n",
    "    _BOINC_ENABLED = True\n",
    "except:\n",
    "    _BOINC_ENABLED = False"
   ],
   "metadata": {
    "collapsed": false,
    "pycharm": {
     "name": "#%%\n"
    }
   }
  },
  {
   "cell_type": "code",
   "execution_count": 2,
   "outputs": [],
   "source": [
    "class Environment:\n",
    "    def __init__(self, layout=\"mediumClassic\"):\n",
    "        self.layout = l.getLayout(layout)\n",
    "        self.beQuiet=True\n",
    "        self.catchExceptions = False\n",
    "        self.rules = pm.ClassicGameRules(timeout=30)\n",
    "        self.reset()\n",
    "        self.reward = 0 # Score by doing last action\n",
    "        self.total_reward = 0 # Total reward\n",
    "\n",
    "    def reset(self):\n",
    "        self.display = textDisplay.NullGraphics()\n",
    "        self.pacman = pacmanAgents.GreedyAgent()\n",
    "        self.ghosts = [ghostAgents.RandomGhost(i+1) for i in range(self.layout.getNumGhosts())]\n",
    "        self.agents = [self.pacman] + self.ghosts\n",
    "        self.game = self.rules.newGame(self.layout, self.pacman, self.ghosts,\n",
    "                                       self.display, self.beQuiet, self.catchExceptions)\n",
    "\n",
    "        # inform learning agents of the game start\n",
    "        for i in range(len(self.agents)):\n",
    "            agent = self.game.agents[i]\n",
    "            if not agent:\n",
    "                self.game.mute(i)\n",
    "                # this is a null agent, meaning it failed to load\n",
    "                # the other team wins\n",
    "                print(\"Agent %d failed to load\" % i, file=sys.stderr)\n",
    "                self.game.unmute()\n",
    "                self.game._agentCrash(i, quiet=True)\n",
    "                return\n",
    "\n",
    "        self.agentIndex = self.game.startingIndex\n",
    "        self.numAgents = len(self.game.agents)\n",
    "\n",
    "    def get_current_state(self):\n",
    "        return self.game.state.deepCopy()\n",
    "\n",
    "    def get_reward(self):\n",
    "        return env.game.state.getScore()\n",
    "\n",
    "    def update_game_state(self, action):\n",
    "        # Execute the action\n",
    "        self.game.state = self.game.state.generateSuccessor( self.agentIndex, action )\n",
    "        # Change the display\n",
    "        self.game.display.update( self.game.state.data )\n",
    "        # Allow for game specific conditions (winning, losing, etc.)\n",
    "        self.game.rules.process(self.game.state, self.game)\n",
    "        # Track progress\n",
    "        if self.agentIndex == self.numAgents + 1: self.game.numMoves += 1\n",
    "        # Next agent\n",
    "        self.agentIndex = ( self.agentIndex + 1 ) % self.numAgents\n",
    "\n",
    "        if _BOINC_ENABLED:\n",
    "            boinc.set_fraction_done(self.game.getProgress())\n",
    "\n",
    "    def step(self):\n",
    "        initial_reward = self.get_reward()\n",
    "\n",
    "        for agentIndex, agent in enumerate(self.game.agents):\n",
    "            if not self.done():\n",
    "                observation = self.get_current_state()\n",
    "                action_ghost = agent.getAction(observation)\n",
    "                if agentIndex == 0:\n",
    "                    current_reward = self.get_reward()\n",
    "                    reward_by_action = current_reward - initial_reward\n",
    "                    #agent.step(reward_by_action)\n",
    "                self.update_game_state(action_ghost)\n",
    "\n",
    "    def done(self, fast_check=False):\n",
    "        if not self.game.gameOver:\n",
    "            return False\n",
    "        else:\n",
    "            if fast_check: self.game.display.finish()\n",
    "            return True"
   ],
   "metadata": {
    "collapsed": false,
    "pycharm": {
     "name": "#%%\n"
    }
   }
  },
  {
   "cell_type": "code",
   "execution_count": 3,
   "outputs": [],
   "source": [
    "env = Environment()"
   ],
   "metadata": {
    "collapsed": false,
    "pycharm": {
     "name": "#%%\n"
    }
   }
  },
  {
   "cell_type": "code",
   "execution_count": 4,
   "outputs": [
    {
     "name": "stdout",
     "output_type": "stream",
     "text": [
      "Episode:  1\n",
      "Average Score: 69.0\n",
      "Scores:        69.0\n",
      "Win Rate:      0/1 (0.00)\n",
      "Record:        Loss\n",
      "\n",
      "Episode:  2\n",
      "Average Score: 690.0\n",
      "Scores:        690.0\n",
      "Win Rate:      0/1 (0.00)\n",
      "Record:        Loss\n",
      "\n",
      "Episode:  3\n",
      "Average Score: 336.0\n",
      "Scores:        336.0\n",
      "Win Rate:      0/1 (0.00)\n",
      "Record:        Loss\n",
      "\n",
      "Episode:  4\n",
      "Average Score: 162.0\n",
      "Scores:        162.0\n",
      "Win Rate:      0/1 (0.00)\n",
      "Record:        Loss\n",
      "\n",
      "Episode:  5\n",
      "Average Score: 112.0\n",
      "Scores:        112.0\n",
      "Win Rate:      0/1 (0.00)\n",
      "Record:        Loss\n",
      "\n",
      "Episode:  6\n",
      "Average Score: 167.0\n",
      "Scores:        167.0\n",
      "Win Rate:      0/1 (0.00)\n",
      "Record:        Loss\n",
      "\n",
      "Episode:  7\n",
      "Average Score: -72.0\n",
      "Scores:        -72.0\n",
      "Win Rate:      0/1 (0.00)\n",
      "Record:        Loss\n",
      "\n",
      "Episode:  8\n",
      "Average Score: -99.0\n",
      "Scores:        -99.0\n",
      "Win Rate:      0/1 (0.00)\n",
      "Record:        Loss\n",
      "\n",
      "Episode:  9\n",
      "Average Score: 227.0\n",
      "Scores:        227.0\n",
      "Win Rate:      0/1 (0.00)\n",
      "Record:        Loss\n",
      "\n",
      "Episode:  10\n",
      "Average Score: -358.0\n",
      "Scores:        -358.0\n",
      "Win Rate:      0/1 (0.00)\n",
      "Record:        Loss\n",
      "\n"
     ]
    }
   ],
   "source": [
    "n_episodes = 10\n",
    "for i_episode in range(1, n_episodes + 1):\n",
    "    print(\"Episode: \", i_episode)\n",
    "\n",
    "    env.reset()\n",
    "\n",
    "    while not env.done():\n",
    "        env.step()\n",
    "\n",
    "    scores = [env.game.state.getScore()]\n",
    "    wins = [env.game.state.isWin()]\n",
    "    winRate = wins.count(True)/ float(len(wins))\n",
    "    print('Average Score:', sum(scores) / float(len(scores)))\n",
    "    print('Scores:       ', ', '.join([str(score) for score in scores]))\n",
    "    print('Win Rate:      %d/%d (%.2f)' % (wins.count(True), len(wins), winRate))\n",
    "    print('Record:       ', ', '.join([ ['Loss', 'Win'][int(w)] for w in wins]))\n",
    "\n",
    "    print()"
   ],
   "metadata": {
    "collapsed": false,
    "pycharm": {
     "name": "#%%\n"
    }
   }
  },
  {
   "cell_type": "code",
   "execution_count": 4,
   "outputs": [],
   "source": [],
   "metadata": {
    "collapsed": false,
    "pycharm": {
     "name": "#%%\n"
    }
   }
  }
 ],
 "metadata": {
  "kernelspec": {
   "name": "pycharm-ef6924e5",
   "language": "python",
   "display_name": "PyCharm (p3-reinforcement-learning)"
  },
  "language_info": {
   "codemirror_mode": {
    "name": "ipython",
    "version": 3
   },
   "file_extension": ".py",
   "mimetype": "text/x-python",
   "name": "python",
   "nbconvert_exporter": "python",
   "pygments_lexer": "ipython3",
   "version": "3.8.5"
  },
  "varInspector": {
   "cols": {
    "lenName": 16,
    "lenType": 16,
    "lenVar": 40
   },
   "kernels_config": {
    "python": {
     "delete_cmd_postfix": "",
     "delete_cmd_prefix": "del ",
     "library": "var_list.py",
     "varRefreshCmd": "print(var_dic_list())"
    },
    "r": {
     "delete_cmd_postfix": ") ",
     "delete_cmd_prefix": "rm(",
     "library": "var_list.r",
     "varRefreshCmd": "cat(var_dic_list()) "
    }
   },
   "types_to_exclude": [
    "module",
    "function",
    "builtin_function_or_method",
    "instance",
    "_Feature"
   ],
   "window_display": false
  }
 },
 "nbformat": 4,
 "nbformat_minor": 4
}