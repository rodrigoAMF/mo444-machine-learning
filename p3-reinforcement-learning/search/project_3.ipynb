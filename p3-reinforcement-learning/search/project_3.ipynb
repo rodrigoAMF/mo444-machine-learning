{
 "cells": [
  {
   "cell_type": "markdown",
   "source": [
    "## MO444 Project 3 - Reinforcement Learning\n",
    "\n",
    "* Rodrigo Araújo Marinho Franco - RA: 233569\n",
    "* Felipe Marinho Tavares - RA: 265680\n",
    "\n",
    "### Contributions:\n",
    "* Rodrigo\n",
    " * ...\n",
    "* Felipe\n",
    " * ..."
   ],
   "metadata": {
    "collapsed": false,
    "pycharm": {
     "name": "#%% md\n"
    }
   }
  },
  {
   "cell_type": "markdown",
   "source": [
    "# PART I - Evolutionary Model"
   ],
   "metadata": {
    "collapsed": false,
    "pycharm": {
     "name": "#%% md\n"
    }
   }
  },
  {
   "cell_type": "code",
   "execution_count": null,
   "outputs": [],
   "source": [],
   "metadata": {
    "collapsed": false,
    "pycharm": {
     "name": "#%%\n"
    }
   }
  },
  {
   "cell_type": "markdown",
   "source": [
    "# PART II - Reinforcement Learning"
   ],
   "metadata": {
    "collapsed": false
   }
  },
  {
   "cell_type": "code",
   "execution_count": 1,
   "outputs": [],
   "source": [
    "from util import *\n",
    "import numpy as np\n",
    "import matplotlib.pyplot as plt\n",
    "\n",
    "import pacman as pm\n",
    "from pacman import Directions\n",
    "import layout as l\n",
    "import textDisplay\n",
    "import dqnAgent, ghostAgents\n",
    "\n",
    "try:\n",
    "    import boinc\n",
    "    _BOINC_ENABLED = True\n",
    "except:\n",
    "    _BOINC_ENABLED = False"
   ],
   "metadata": {
    "collapsed": false,
    "pycharm": {
     "name": "#%%\n"
    }
   }
  },
  {
   "cell_type": "code",
   "execution_count": 2,
   "outputs": [],
   "source": [
    "class Environment:\n",
    "    def __init__(self, layout=\"mediumClassic\"):\n",
    "        self.layout = l.getLayout(layout)\n",
    "        state_size = [1, self.layout.height, self.layout.width]\n",
    "        self.beQuiet=True\n",
    "        self.catchExceptions = False\n",
    "        self.rules = pm.ClassicGameRules(timeout=30)\n",
    "        self.pacman = dqnAgent.DQNAgent(state_size, action_size=5, seed=27)\n",
    "        self.reset()\n",
    "\n",
    "    def reset(self):\n",
    "        self.display = textDisplay.NullGraphics()\n",
    "        self.ghosts = [ghostAgents.RandomGhost(i+1) for i in range(self.layout.getNumGhosts())]\n",
    "        self.agents = [self.pacman] + self.ghosts\n",
    "        self.game = self.rules.newGame(self.layout, self.pacman, self.ghosts,\n",
    "                                       self.display, self.beQuiet, self.catchExceptions)\n",
    "\n",
    "        # inform learning agents of the game start\n",
    "        for i in range(len(self.agents)):\n",
    "            agent = self.game.agents[i]\n",
    "            if not agent:\n",
    "                self.game.mute(i)\n",
    "                # this is a null agent, meaning it failed to load\n",
    "                # the other team wins\n",
    "                print(\"Agent %d failed to load\" % i, file=sys.stderr)\n",
    "                self.game.unmute()\n",
    "                self.game._agentCrash(i, quiet=True)\n",
    "                return\n",
    "\n",
    "        self.agentIndex = self.game.startingIndex\n",
    "        self.numAgents = len(self.game.agents)\n",
    "\n",
    "    def get_current_state(self):\n",
    "        return self.game.state.deepCopy()\n",
    "\n",
    "    def get_reward(self):\n",
    "        return env.game.state.getScore()\n",
    "\n",
    "    def update_game_state(self, action):\n",
    "        # Execute the action\n",
    "        self.game.state = self.game.state.generateSuccessor( self.agentIndex, action )\n",
    "        # Change the display\n",
    "        self.game.display.update( self.game.state.data )\n",
    "        # Allow for game specific conditions (winning, losing, etc.)\n",
    "        self.game.rules.process(self.game.state, self.game)\n",
    "        # Track progress\n",
    "        if self.agentIndex == self.numAgents + 1: self.game.numMoves += 1\n",
    "        # Next agent\n",
    "        self.agentIndex = ( self.agentIndex + 1 ) % self.numAgents\n",
    "\n",
    "        if _BOINC_ENABLED:\n",
    "            boinc.set_fraction_done(self.game.getProgress())\n",
    "\n",
    "    def convert_state_to_image(self, state):\n",
    "        state = str(state).split(\"\\n\")[:-2]\n",
    "        new_state = np.zeros((1, self.layout.height, self.layout.width))\n",
    "        state_dict = {\n",
    "            '%': 0, '.': 225, 'o': 255,\n",
    "            'G': 50, '<': 75, '>': 75,\n",
    "            '^': 75, 'v': 75, ' ': 150,\n",
    "            'P': 75\n",
    "        }\n",
    "\n",
    "        for i in range(self.layout.height):\n",
    "            for j in range(self.layout.width):\n",
    "                new_state[0][i][j] = state_dict[state[i][j]]\n",
    "\n",
    "        #new_state = new_state.reshape(-1)\n",
    "        new_state /= 255.0\n",
    "\n",
    "        return new_state\n",
    "\n",
    "    def get_action_as_number(self, action):\n",
    "        direction_to_action = {\n",
    "            Directions.NORTH: 1,\n",
    "            Directions.SOUTH: 2,\n",
    "            Directions.EAST: 3,\n",
    "            Directions.WEST: 4,\n",
    "            Directions.STOP: 0\n",
    "        }\n",
    "\n",
    "        return direction_to_action[action]\n",
    "\n",
    "    def step(self):\n",
    "        initial_reward = self.get_reward()\n",
    "\n",
    "        for agentIndex, agent in enumerate(self.game.agents):\n",
    "            if not self.done():\n",
    "                state = self.get_current_state()\n",
    "\n",
    "                if agentIndex == 0:\n",
    "                    state_as_image = self.convert_state_to_image(state)\n",
    "                    legal = state.getLegalPacmanActions()\n",
    "                    action = agent.getAction(state_as_image, legal)\n",
    "                else:\n",
    "                    action = agent.getAction(state)\n",
    "\n",
    "                self.update_game_state(action)\n",
    "\n",
    "                if agentIndex == 0:\n",
    "                    state = state_as_image\n",
    "                    action = self.get_action_as_number(action)\n",
    "                    next_state = self.get_current_state()\n",
    "                    next_state = self.convert_state_to_image(next_state)\n",
    "\n",
    "                    reward = self.get_reward() - initial_reward\n",
    "                    done = self.done()\n",
    "                    agent.step(state, action, reward, next_state, done)\n",
    "\n",
    "    def done(self, fast_check=False):\n",
    "        if not self.game.gameOver:\n",
    "            return False\n",
    "        else:\n",
    "            if fast_check: self.game.display.finish()\n",
    "            return True"
   ],
   "metadata": {
    "collapsed": false,
    "pycharm": {
     "name": "#%%\n"
    }
   }
  },
  {
   "cell_type": "code",
   "execution_count": 3,
   "outputs": [],
   "source": [
    "env = Environment()"
   ],
   "metadata": {
    "collapsed": false,
    "pycharm": {
     "name": "#%%\n"
    }
   }
  },
  {
   "cell_type": "code",
   "execution_count": 12,
   "outputs": [
    {
     "name": "stdout",
     "output_type": "stream",
     "text": [
      "Episode:  10 Average Score: -558.10\n",
      "Episode:  20 Average Score: -578.75\n",
      "Episode:  30 Average Score: -569.93\n",
      "Episode:  40 Average Score: -567.02\n",
      "Episode:  50 Average Score: -565.72\n",
      "Episode:  60 Average Score: -563.23\n",
      "Episode:  70 Average Score: -562.83\n",
      "Episode:  80 Average Score: -565.74\n",
      "Episode:  90 Average Score: -570.22\n",
      "Episode:  100 Average Score: -569.79\n"
     ]
    },
    {
     "data": {
      "text/plain": "<Figure size 720x360 with 1 Axes>",
      "image/png": "[encoded data removed]"
     },
     "metadata": {
      "needs_background": "light"
     },
     "output_type": "display_data"
    }
   ],
   "source": [
    "n_episodes = 100\n",
    "print_every = 10\n",
    "wins = []\n",
    "scores = []\n",
    "average_scores = []\n",
    "for i_episode in range(1, n_episodes + 1):\n",
    "    env.reset()\n",
    "\n",
    "    while not env.done():\n",
    "        env.step()\n",
    "\n",
    "    scores.append(env.game.state.getScore())\n",
    "    wins.append(env.game.state.isWin())\n",
    "    winRate = wins.count(True)/ float(len(wins))\n",
    "    average_scores.append(sum(scores)/float(len(scores)))\n",
    "    if i_episode == 0 or i_episode % print_every == 0:\n",
    "        print(\"Episode: \", i_episode, end=\" \")\n",
    "        print('Average Score: {:.2f}'.format(average_scores[-1]))\n",
    "        #print('Scores:       ', ', '.join([str(score) for score in scores]))\n",
    "        #print('Win Rate:      %d/%d (%.2f)' % (wins.count(True), len(wins), winRate))\n",
    "        #print('Record:       ', ', '.join([ ['Loss', 'Win'][int(w)] for w in wins]))\n",
    "\n",
    "plt.figure(figsize=(10, 5))\n",
    "plt.title(\"Scores during training\")\n",
    "line1, = plt.plot(scores)\n",
    "line2, = plt.plot(average_scores)\n",
    "plt.legend([line1, line2], [\"Score\", \"Average Score\"])\n",
    "plt.show()"
   ],
   "metadata": {
    "collapsed": false,
    "pycharm": {
     "name": "#%%\n"
    }
   }
  }
 ],
 "metadata": {
  "kernelspec": {
   "name": "pycharm-ef6924e5",
   "language": "python",
   "display_name": "PyCharm (p3-reinforcement-learning)"
  },
  "language_info": {
   "codemirror_mode": {
    "name": "ipython",
    "version": 3
   },
   "file_extension": ".py",
   "mimetype": "text/x-python",
   "name": "python",
   "nbconvert_exporter": "python",
   "pygments_lexer": "ipython3",
   "version": "3.8.5"
  },
  "varInspector": {
   "cols": {
    "lenName": 16,
    "lenType": 16,
    "lenVar": 40
   },
   "kernels_config": {
    "python": {
     "delete_cmd_postfix": "",
     "delete_cmd_prefix": "del ",
     "library": "var_list.py",
     "varRefreshCmd": "print(var_dic_list())"
    },
    "r": {
     "delete_cmd_postfix": ") ",
     "delete_cmd_prefix": "rm(",
     "library": "var_list.r",
     "varRefreshCmd": "cat(var_dic_list()) "
    }
   },
   "types_to_exclude": [
    "module",
    "function",
    "builtin_function_or_method",
    "instance",
    "_Feature"
   ],
   "window_display": false
  }
 },
 "nbformat": 4,
 "nbformat_minor": 4
}