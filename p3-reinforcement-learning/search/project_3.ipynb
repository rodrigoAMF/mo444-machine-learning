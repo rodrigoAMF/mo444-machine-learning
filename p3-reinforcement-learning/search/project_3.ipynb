{
 "cells": [
  {
   "cell_type": "markdown",
   "source": [
    "## MO444 Project 3 - Reinforcement Learning\n",
    "\n",
    "* Rodrigo Araújo Marinho Franco - RA: 233569\n",
    "* Felipe Marinho Tavares - RA: 265680\n",
    "\n",
    "### Contributions:\n",
    "* Rodrigo\n",
    " * ...\n",
    "* Felipe\n",
    " * ..."
   ],
   "metadata": {
    "collapsed": false,
    "pycharm": {
     "name": "#%% md\n"
    }
   }
  },
  {
   "cell_type": "markdown",
   "source": [
    "# PART I - Evolutionary Model"
   ],
   "metadata": {
    "collapsed": false,
    "pycharm": {
     "name": "#%% md\n"
    }
   }
  },
  {
   "cell_type": "code",
   "execution_count": null,
   "outputs": [],
   "source": [],
   "metadata": {
    "collapsed": false,
    "pycharm": {
     "name": "#%%\n"
    }
   }
  },
  {
   "cell_type": "markdown",
   "source": [
    "# PART II - Reinforcement Learning"
   ],
   "metadata": {
    "collapsed": false
   }
  },
  {
   "cell_type": "code",
   "execution_count": 1,
   "outputs": [],
   "source": [
    "from collections import deque\n",
    "import matplotlib.pyplot as plt\n",
    "\n",
    "import environment"
   ],
   "metadata": {
    "collapsed": false,
    "pycharm": {
     "name": "#%%\n"
    }
   }
  },
  {
   "cell_type": "code",
   "execution_count": 2,
   "outputs": [
    {
     "name": "stdout",
     "output_type": "stream",
     "text": [
      "1152\n",
      "1152\n"
     ]
    }
   ],
   "source": [
    "env = environment.Environment()"
   ],
   "metadata": {
    "collapsed": false,
    "pycharm": {
     "name": "#%%\n"
    }
   }
  },
  {
   "cell_type": "code",
   "execution_count": null,
   "outputs": [
    {
     "name": "stdout",
     "output_type": "stream",
     "text": [
      "Episode:  1 Average Score: -229.00 Winrate: 0.00%\n",
      "Episode:  100 Average Score: -408.67 Winrate: 0.00%\n",
      "Episode:  200 Average Score: -395.20 Winrate: 0.00%\n",
      "Episode:  300 Average Score: -377.37 Winrate: 0.00%\n",
      "Episode:  400 Average Score: -374.81 Winrate: 0.00%\n",
      "Episode:  500 Average Score: -377.13 Winrate: 0.00%\n",
      "Episode:  600 Average Score: -371.53 Winrate: 0.00%\n",
      "Episode:  700 Average Score: -354.18 Winrate: 0.00%\n",
      "Episode:  800 Average Score: -338.50 Winrate: 0.00%\n",
      "Episode:  900 Average Score: -333.38 Winrate: 0.00%\n",
      "Episode:  1000 Average Score: -342.50 Winrate: 0.00%\n",
      "Episode:  1100 Average Score: -354.80 Winrate: 0.00%\n",
      "Episode:  1200 Average Score: -342.63 Winrate: 0.00%\n",
      "Episode:  1300 Average Score: -335.38 Winrate: 0.00%\n",
      "Episode:  1400 Average Score: -337.22 Winrate: 0.00%\n",
      "Episode:  1500 Average Score: -340.89 Winrate: 0.00%\n",
      "Episode:  1600 Average Score: -344.81 Winrate: 0.00%\n",
      "Episode:  1700 Average Score: -345.81 Winrate: 0.00%\n",
      "Episode:  1800 Average Score: -348.74 Winrate: 0.00%\n",
      "Episode:  1900 Average Score: -337.97 Winrate: 0.00%\n"
     ]
    }
   ],
   "source": [
    "wins = []\n",
    "wins_window = deque(maxlen=200)\n",
    "scores = []\n",
    "scores_window = deque(maxlen=200)\n",
    "average_scores = []\n",
    "\n",
    "eps_start = 1.0\n",
    "eps_end = 0.05\n",
    "eps_decay=0.999\n",
    "eps = eps_start\n",
    "\n",
    "n_episodes = 5000\n",
    "print_every = n_episodes/50\n",
    "for i_episode in range(1, n_episodes + 1):\n",
    "    env.reset()\n",
    "\n",
    "    while not env.done():\n",
    "        env.step(eps)\n",
    "\n",
    "    eps = max(eps_end, eps_decay*eps)\n",
    "\n",
    "    scores.append(env.game.state.getScore())\n",
    "    scores_window.append(env.game.state.getScore())\n",
    "\n",
    "    wins.append(env.game.state.isWin())\n",
    "    wins_window.append(env.game.state.isWin())\n",
    "\n",
    "    average_score = sum(scores_window)/float(len(scores_window))\n",
    "    winrate = sum(wins_window)/float(len(wins_window)) * 100.0\n",
    "    average_scores.append(average_score)\n",
    "\n",
    "    if i_episode == 1 or i_episode % print_every == 0:\n",
    "        print(\"Episode: \", i_episode, end=\" \")\n",
    "        print('Average Score: {:.2f}'.format(average_score), end=\" \")\n",
    "        print('Winrate: {:.2f}%'.format(winrate))\n",
    "\n",
    "plt.figure(figsize=(10, 5))\n",
    "plt.title(\"Scores during training\")\n",
    "line1, = plt.plot(scores)\n",
    "line2, = plt.plot(average_scores)\n",
    "plt.legend([line1, line2], [\"Score\", \"Average Score\"])\n",
    "plt.show()"
   ],
   "metadata": {
    "collapsed": false,
    "pycharm": {
     "name": "#%%\n",
     "is_executing": true
    }
   }
  }
 ],
 "metadata": {
  "kernelspec": {
   "name": "pycharm-ef6924e5",
   "language": "python",
   "display_name": "PyCharm (p3-reinforcement-learning)"
  },
  "language_info": {
   "codemirror_mode": {
    "name": "ipython",
    "version": 3
   },
   "file_extension": ".py",
   "mimetype": "text/x-python",
   "name": "python",
   "nbconvert_exporter": "python",
   "pygments_lexer": "ipython3",
   "version": "3.8.5"
  },
  "varInspector": {
   "cols": {
    "lenName": 16,
    "lenType": 16,
    "lenVar": 40
   },
   "kernels_config": {
    "python": {
     "delete_cmd_postfix": "",
     "delete_cmd_prefix": "del ",
     "library": "var_list.py",
     "varRefreshCmd": "print(var_dic_list())"
    },
    "r": {
     "delete_cmd_postfix": ") ",
     "delete_cmd_prefix": "rm(",
     "library": "var_list.r",
     "varRefreshCmd": "cat(var_dic_list()) "
    }
   },
   "types_to_exclude": [
    "module",
    "function",
    "builtin_function_or_method",
    "instance",
    "_Feature"
   ],
   "window_display": false
  }
 },
 "nbformat": 4,
 "nbformat_minor": 4
}