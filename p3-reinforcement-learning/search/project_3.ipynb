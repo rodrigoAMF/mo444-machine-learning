{
 "cells": [
  {
   "cell_type": "markdown",
   "source": [
    "## MO444 Project 3 - Reinforcement Learning\n",
    "\n",
    "* Rodrigo Araújo Marinho Franco - RA: 233569\n",
    "* Felipe Marinho Tavares - RA: 265680\n",
    "\n",
    "### Contributions:\n",
    "* Rodrigo\n",
    " * ...\n",
    "* Felipe\n",
    " * ..."
   ],
   "metadata": {
    "collapsed": false,
    "pycharm": {
     "name": "#%% md\n"
    }
   }
  },
  {
   "cell_type": "markdown",
   "source": [
    "# PART I - Evolutionary Model"
   ],
   "metadata": {
    "collapsed": false,
    "pycharm": {
     "name": "#%% md\n"
    }
   }
  },
  {
   "cell_type": "code",
   "execution_count": null,
   "outputs": [],
   "source": [],
   "metadata": {
    "collapsed": false,
    "pycharm": {
     "name": "#%%\n"
    }
   }
  },
  {
   "cell_type": "markdown",
   "source": [
    "# PART II - Reinforcement Learning"
   ],
   "metadata": {
    "collapsed": false
   }
  },
  {
   "cell_type": "code",
   "execution_count": 1,
   "outputs": [],
   "source": [
    "from collections import deque\n",
    "import matplotlib.pyplot as plt\n",
    "import numpy as np\n",
    "\n",
    "import environment"
   ],
   "metadata": {
    "collapsed": false,
    "pycharm": {
     "name": "#%%\n"
    }
   }
  },
  {
   "cell_type": "code",
   "execution_count": 2,
   "outputs": [
    {
     "name": "stdout",
     "output_type": "stream",
     "text": [
      "640\n",
      "640\n",
      "Example of environment\n",
      "Board size:  (11, 20, 1)\n"
     ]
    },
    {
     "data": {
      "text/plain": "<Figure size 432x288 with 1 Axes>",
      "image/png": "[encoded data removed]"
     },
     "metadata": {
      "needs_background": "light"
     },
     "output_type": "display_data"
    }
   ],
   "source": [
    "env = environment.Environment(layout=\"mediumClassic\") # smallClassic, mediumClassic, originalClassic\n",
    "\n",
    "print(\"Example of environment\")\n",
    "image = env.convert_state_to_image(env.get_current_state())\n",
    "image = np.moveaxis(image, [0, 1, 2], [-1, -3, -2])\n",
    "print(\"Board size: \", image.shape)\n",
    "plt.imshow(image, cmap=\"gray\", vmax=1, vmin=0)\n",
    "plt.show()"
   ],
   "metadata": {
    "collapsed": false,
    "pycharm": {
     "name": "#%%\n"
    }
   }
  },
  {
   "cell_type": "code",
   "execution_count": null,
   "outputs": [
    {
     "name": "stdout",
     "output_type": "stream",
     "text": [
      "Episode:  60 Average Score: -399.62 Winrate: 0.00%\n",
      "Episode:  120 Average Score: -393.50 Winrate: 0.00%\n",
      "Episode:  180 Average Score: -397.90 Winrate: 0.00%\n",
      "Episode:  240 Average Score: -406.36 Winrate: 0.00%\n",
      "Episode:  300 Average Score: -412.45 Winrate: 0.00%\n",
      "Episode:  360 Average Score: -415.19 Winrate: 0.00%\n",
      "Episode:  420 Average Score: -409.38 Winrate: 0.00%\n",
      "Episode:  480 Average Score: -406.82 Winrate: 0.00%\n",
      "Episode:  540 Average Score: -392.19 Winrate: 0.00%\n",
      "Episode:  600 Average Score: -385.80 Winrate: 0.00%\n",
      "Episode:  660 Average Score: -380.88 Winrate: 0.00%\n"
     ]
    }
   ],
   "source": [
    "wins = []\n",
    "wins_window = deque(maxlen=200)\n",
    "scores = []\n",
    "scores_window = deque(maxlen=200)\n",
    "average_scores = []\n",
    "\n",
    "eps_start = 1.0\n",
    "eps_end = 0.1 # 10%\n",
    "eps_decay=0.999\n",
    "eps = eps_start\n",
    "\n",
    "n_episodes = 3000\n",
    "print_every = n_episodes/50\n",
    "for i_episode in range(1, n_episodes + 1):\n",
    "    env.reset()\n",
    "\n",
    "    while not env.done():\n",
    "        env.step(eps)\n",
    "\n",
    "    eps = max(eps_end, eps_decay*eps)\n",
    "\n",
    "    scores.append(env.game.state.getScore())\n",
    "    scores_window.append(env.game.state.getScore())\n",
    "\n",
    "    wins.append(env.game.state.isWin())\n",
    "    wins_window.append(env.game.state.isWin())\n",
    "\n",
    "    average_score = sum(scores_window)/float(len(scores_window))\n",
    "    winrate = sum(wins_window)/float(len(wins_window)) * 100.0\n",
    "    average_scores.append(average_score)\n",
    "\n",
    "    if i_episode % print_every == 0:\n",
    "        print(\"Episode: \", i_episode, end=\" \")\n",
    "        print('Average Score: {:.2f}'.format(average_score), end=\" \")\n",
    "        print('Winrate: {:.2f}%'.format(winrate))\n",
    "\n",
    "plt.figure(figsize=(10, 5))\n",
    "plt.title(\"Scores during training\")\n",
    "line1, = plt.plot(scores)\n",
    "line2, = plt.plot(average_scores)\n",
    "plt.legend([line1, line2], [\"Score\", \"Average Score\"])\n",
    "plt.show()"
   ],
   "metadata": {
    "collapsed": false,
    "pycharm": {
     "name": "#%%\n",
     "is_executing": true
    }
   }
  },
  {
   "cell_type": "code",
   "execution_count": null,
   "outputs": [],
   "source": [
    "state = np.array(list(env.last_actions))[:, 0, :, :]\n",
    "print(state.shape)\n",
    "#image = np.moveaxis(state, [0, 1, 2], [-1, -3, -2])\n",
    "image = state[0]\n",
    "print(\"Board size: \", image.shape)\n",
    "plt.imshow(image, cmap=\"gray\", vmax=1, vmin=0)\n",
    "plt.show()\n",
    "\n",
    "image = state[1]\n",
    "print(\"Board size: \", image.shape)\n",
    "plt.imshow(image, cmap=\"gray\", vmax=1, vmin=0)\n",
    "plt.show()\n",
    "\n",
    "image = state[2]\n",
    "print(\"Board size: \", image.shape)\n",
    "plt.imshow(image, cmap=\"gray\", vmax=1, vmin=0)\n",
    "plt.show()\n",
    "\n",
    "image = state[3]\n",
    "print(\"Board size: \", image.shape)\n",
    "plt.imshow(image, cmap=\"gray\", vmax=1, vmin=0)\n",
    "plt.show()"
   ],
   "metadata": {
    "collapsed": false,
    "pycharm": {
     "name": "#%%\n",
     "is_executing": true
    }
   }
  },
  {
   "cell_type": "code",
   "execution_count": null,
   "outputs": [],
   "source": [
    "state = np.array(list(env.last_actions_next))[:, 0, :, :]\n",
    "print(state.shape)\n",
    "#image = np.moveaxis(state, [0, 1, 2], [-1, -3, -2])\n",
    "image = state[0]\n",
    "print(\"Board size: \", image.shape)\n",
    "plt.imshow(image, cmap=\"gray\", vmax=1, vmin=0)\n",
    "plt.show()\n",
    "\n",
    "image = state[1]\n",
    "print(\"Board size: \", image.shape)\n",
    "plt.imshow(image, cmap=\"gray\", vmax=1, vmin=0)\n",
    "plt.show()\n",
    "\n",
    "image = state[2]\n",
    "print(\"Board size: \", image.shape)\n",
    "plt.imshow(image, cmap=\"gray\", vmax=1, vmin=0)\n",
    "plt.show()\n",
    "\n",
    "image = state[3]\n",
    "print(\"Board size: \", image.shape)\n",
    "plt.imshow(image, cmap=\"gray\", vmax=1, vmin=0)\n",
    "plt.show()"
   ],
   "metadata": {
    "collapsed": false,
    "pycharm": {
     "name": "#%%\n",
     "is_executing": true
    }
   }
  }
 ],
 "metadata": {
  "kernelspec": {
   "name": "pycharm-ef6924e5",
   "language": "python",
   "display_name": "PyCharm (p3-reinforcement-learning)"
  },
  "language_info": {
   "codemirror_mode": {
    "name": "ipython",
    "version": 3
   },
   "file_extension": ".py",
   "mimetype": "text/x-python",
   "name": "python",
   "nbconvert_exporter": "python",
   "pygments_lexer": "ipython3",
   "version": "3.8.5"
  },
  "varInspector": {
   "cols": {
    "lenName": 16,
    "lenType": 16,
    "lenVar": 40
   },
   "kernels_config": {
    "python": {
     "delete_cmd_postfix": "",
     "delete_cmd_prefix": "del ",
     "library": "var_list.py",
     "varRefreshCmd": "print(var_dic_list())"
    },
    "r": {
     "delete_cmd_postfix": ") ",
     "delete_cmd_prefix": "rm(",
     "library": "var_list.r",
     "varRefreshCmd": "cat(var_dic_list()) "
    }
   },
   "types_to_exclude": [
    "module",
    "function",
    "builtin_function_or_method",
    "instance",
    "_Feature"
   ],
   "window_display": false
  }
 },
 "nbformat": 4,
 "nbformat_minor": 4
}