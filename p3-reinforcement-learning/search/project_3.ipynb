{
 "cells": [
  {
   "cell_type": "markdown",
   "source": [
    "## MO444 Project 3 - Reinforcement Learning\n",
    "\n",
    "* Rodrigo Araújo Marinho Franco - RA: 233569\n",
    "* Felipe Marinho Tavares - RA: 265680\n",
    "\n",
    "### Contributions:\n",
    "* Rodrigo\n",
    " * ...\n",
    "* Felipe\n",
    " * ..."
   ],
   "metadata": {
    "collapsed": false,
    "pycharm": {
     "name": "#%% md\n"
    }
   }
  },
  {
   "cell_type": "markdown",
   "source": [
    "# PART I - Evolutionary Model"
   ],
   "metadata": {
    "collapsed": false,
    "pycharm": {
     "name": "#%% md\n"
    }
   }
  },
  {
   "cell_type": "code",
   "execution_count": null,
   "outputs": [],
   "source": [],
   "metadata": {
    "collapsed": false,
    "pycharm": {
     "name": "#%%\n"
    }
   }
  },
  {
   "cell_type": "markdown",
   "source": [
    "# PART II - Reinforcement Learning"
   ],
   "metadata": {
    "collapsed": false
   }
  },
  {
   "cell_type": "code",
   "execution_count": 1,
   "outputs": [],
   "source": [
    "from collections import deque\n",
    "import matplotlib.pyplot as plt\n",
    "\n",
    "import environment"
   ],
   "metadata": {
    "collapsed": false,
    "pycharm": {
     "name": "#%%\n"
    }
   }
  },
  {
   "cell_type": "code",
   "execution_count": 2,
   "outputs": [
    {
     "name": "stdout",
     "output_type": "stream",
     "text": [
      "640\n",
      "640\n",
      "Episode:  1 Average Score: -229.00 Winrate: 0.00%\n",
      "Episode:  1000 Average Score: -333.83 Winrate: 0.00%\n",
      "Episode:  2000 Average Score: -190.67 Winrate: 0.00%\n",
      "Episode:  3000 Average Score: -32.51 Winrate: 0.00%\n",
      "Episode:  4000 Average Score: 12.05 Winrate: 0.00%\n",
      "Episode:  5000 Average Score: -39.05 Winrate: 0.00%\n",
      "Episode:  6000 Average Score: -117.69 Winrate: 0.00%\n",
      "Episode:  7000 Average Score: -100.54 Winrate: 0.00%\n",
      "Episode:  8000 Average Score: -88.42 Winrate: 0.00%\n",
      "Episode:  9000 Average Score: -122.51 Winrate: 0.00%\n",
      "Episode:  10000 Average Score: -89.16 Winrate: 0.00%\n",
      "Episode:  11000 Average Score: -60.91 Winrate: 0.00%\n",
      "Episode:  12000 Average Score: -87.84 Winrate: 0.00%\n",
      "Episode:  13000 Average Score: -10.63 Winrate: 0.00%\n",
      "Episode:  14000 Average Score: 13.34 Winrate: 0.00%\n",
      "Episode:  15000 Average Score: -13.24 Winrate: 0.00%\n",
      "Episode:  16000 Average Score: 6.99 Winrate: 0.00%\n",
      "Episode:  17000 Average Score: 61.61 Winrate: 0.00%\n",
      "Episode:  18000 Average Score: 64.06 Winrate: 0.00%\n",
      "Episode:  19000 Average Score: 53.33 Winrate: 0.00%\n",
      "Episode:  20000 Average Score: 97.28 Winrate: 0.00%\n",
      "Episode:  21000 Average Score: 97.50 Winrate: 0.50%\n",
      "Episode:  22000 Average Score: 94.93 Winrate: 0.00%\n",
      "Episode:  23000 Average Score: 95.97 Winrate: 0.00%\n",
      "Episode:  24000 Average Score: 71.56 Winrate: 0.00%\n",
      "Episode:  25000 Average Score: 120.28 Winrate: 0.00%\n",
      "Episode:  26000 Average Score: 148.09 Winrate: 0.50%\n",
      "Episode:  27000 Average Score: 143.41 Winrate: 0.00%\n",
      "Episode:  28000 Average Score: 95.25 Winrate: 0.00%\n",
      "Episode:  29000 Average Score: 100.73 Winrate: 0.00%\n",
      "Episode:  30000 Average Score: 86.57 Winrate: 0.00%\n",
      "Episode:  31000 Average Score: 77.71 Winrate: 0.00%\n",
      "Episode:  32000 Average Score: 126.50 Winrate: 0.00%\n",
      "Episode:  33000 Average Score: 93.57 Winrate: 0.00%\n",
      "Episode:  34000 Average Score: 118.73 Winrate: 0.00%\n",
      "Episode:  35000 Average Score: 34.35 Winrate: 0.00%\n",
      "Episode:  36000 Average Score: 89.52 Winrate: 0.00%\n",
      "Episode:  37000 Average Score: -27.93 Winrate: 0.00%\n",
      "Episode:  38000 Average Score: 11.39 Winrate: 0.00%\n",
      "Episode:  39000 Average Score: -26.48 Winrate: 0.00%\n",
      "Episode:  40000 Average Score: 42.58 Winrate: 0.00%\n",
      "Episode:  41000 Average Score: 22.77 Winrate: 0.00%\n",
      "Episode:  42000 Average Score: 50.52 Winrate: 0.00%\n",
      "Episode:  43000 Average Score: 4.50 Winrate: 0.00%\n",
      "Episode:  44000 Average Score: 60.05 Winrate: 0.00%\n",
      "Episode:  45000 Average Score: 75.72 Winrate: 0.00%\n",
      "Episode:  46000 Average Score: 24.20 Winrate: 0.00%\n",
      "Episode:  47000 Average Score: 51.15 Winrate: 0.00%\n",
      "Episode:  48000 Average Score: 83.74 Winrate: 0.00%\n",
      "Episode:  49000 Average Score: 57.35 Winrate: 0.00%\n",
      "Episode:  50000 Average Score: 40.70 Winrate: 0.00%\n",
      "Episode:  51000 Average Score: -11.38 Winrate: 0.00%\n",
      "Episode:  52000 Average Score: 15.19 Winrate: 0.00%\n",
      "Episode:  53000 Average Score: 23.27 Winrate: 0.00%\n",
      "Episode:  54000 Average Score: 95.08 Winrate: 0.00%\n",
      "Episode:  55000 Average Score: 14.02 Winrate: 0.00%\n",
      "Episode:  56000 Average Score: 67.64 Winrate: 0.00%\n",
      "Episode:  57000 Average Score: 83.42 Winrate: 0.00%\n",
      "Episode:  58000 Average Score: 55.35 Winrate: 0.00%\n",
      "Episode:  59000 Average Score: 60.89 Winrate: 0.00%\n",
      "Episode:  60000 Average Score: 70.63 Winrate: 0.00%\n",
      "Episode:  61000 Average Score: 64.68 Winrate: 0.00%\n",
      "Episode:  62000 Average Score: 78.50 Winrate: 0.00%\n",
      "Episode:  63000 Average Score: 114.42 Winrate: 0.00%\n",
      "Episode:  64000 Average Score: 99.28 Winrate: 0.00%\n",
      "Episode:  65000 Average Score: 108.20 Winrate: 0.00%\n",
      "Episode:  66000 Average Score: 67.53 Winrate: 0.00%\n",
      "Episode:  67000 Average Score: 81.46 Winrate: 0.00%\n",
      "Episode:  68000 Average Score: 93.70 Winrate: 0.00%\n",
      "Episode:  69000 Average Score: 73.94 Winrate: 0.00%\n",
      "Episode:  70000 Average Score: 41.79 Winrate: 0.00%\n",
      "Episode:  71000 Average Score: 3.44 Winrate: 0.00%\n",
      "Episode:  72000 Average Score: 10.78 Winrate: 0.00%\n",
      "Episode:  73000 Average Score: -1.41 Winrate: 0.00%\n",
      "Episode:  74000 Average Score: 49.09 Winrate: 0.00%\n",
      "Episode:  75000 Average Score: 48.37 Winrate: 0.00%\n",
      "Episode:  76000 Average Score: 91.12 Winrate: 0.00%\n",
      "Episode:  77000 Average Score: 75.49 Winrate: 0.00%\n",
      "Episode:  78000 Average Score: 52.31 Winrate: 0.00%\n",
      "Episode:  79000 Average Score: 109.81 Winrate: 0.00%\n",
      "Episode:  80000 Average Score: 119.91 Winrate: 0.00%\n",
      "Episode:  81000 Average Score: 109.39 Winrate: 0.00%\n",
      "Episode:  82000 Average Score: 110.61 Winrate: 0.00%\n",
      "Episode:  83000 Average Score: 104.21 Winrate: 0.00%\n",
      "Episode:  84000 Average Score: 74.19 Winrate: 0.00%\n",
      "Episode:  85000 Average Score: 111.95 Winrate: 0.00%\n",
      "Episode:  86000 Average Score: 106.79 Winrate: 0.00%\n",
      "Episode:  87000 Average Score: 127.17 Winrate: 0.00%\n",
      "Episode:  88000 Average Score: 117.12 Winrate: 0.00%\n",
      "Episode:  89000 Average Score: 132.75 Winrate: 0.00%\n",
      "Episode:  90000 Average Score: 119.11 Winrate: 0.00%\n",
      "Episode:  91000 Average Score: 89.80 Winrate: 0.00%\n",
      "Episode:  92000 Average Score: 139.25 Winrate: 0.00%\n",
      "Episode:  93000 Average Score: 188.13 Winrate: 0.00%\n",
      "Episode:  94000 Average Score: 144.50 Winrate: 0.00%\n",
      "Episode:  95000 Average Score: 123.73 Winrate: 0.00%\n",
      "Episode:  96000 Average Score: 152.54 Winrate: 0.00%\n",
      "Episode:  97000 Average Score: 138.81 Winrate: 0.00%\n",
      "Episode:  98000 Average Score: 138.43 Winrate: 0.00%\n",
      "Episode:  99000 Average Score: 160.46 Winrate: 0.00%\n",
      "Episode:  100000 Average Score: 142.84 Winrate: 0.00%\n"
     ]
    },
    {
     "data": {
      "text/plain": "<Figure size 720x360 with 1 Axes>",
      "image/png": "[encoded data removed]"
     },
     "metadata": {
      "needs_background": "light"
     },
     "output_type": "display_data"
    }
   ],
   "source": [
    "wins = []\n",
    "wins_window = deque(maxlen=200)\n",
    "scores = []\n",
    "scores_window = deque(maxlen=200)\n",
    "average_scores = []\n",
    "\n",
    "env = environment.Environment(learning_rate=1e-5)\n",
    "\n",
    "eps_start = 1.0\n",
    "eps_end = 0.05\n",
    "eps_decay=0.999\n",
    "eps = eps_start\n",
    "\n",
    "n_episodes = 100000\n",
    "print_every = n_episodes/100\n",
    "for i_episode in range(1, n_episodes + 1):\n",
    "    env.reset()\n",
    "\n",
    "    while not env.done():\n",
    "        env.step(eps)\n",
    "\n",
    "    eps = max(eps_end, eps_decay*eps)\n",
    "\n",
    "    scores.append(env.game.state.getScore())\n",
    "    scores_window.append(env.game.state.getScore())\n",
    "\n",
    "    wins.append(env.game.state.isWin())\n",
    "    wins_window.append(env.game.state.isWin())\n",
    "\n",
    "    average_score = sum(scores_window)/float(len(scores_window))\n",
    "    winrate = sum(wins_window)/float(len(wins_window)) * 100.0\n",
    "    average_scores.append(average_score)\n",
    "\n",
    "    if i_episode == 1 or i_episode % print_every == 0:\n",
    "        print(\"Episode: \", i_episode, end=\" \")\n",
    "        print('Average Score: {:.2f}'.format(average_score), end=\" \")\n",
    "        print('Winrate: {:.2f}%'.format(winrate))\n",
    "\n",
    "plt.figure(figsize=(10, 5))\n",
    "plt.title(\"Scores during training\")\n",
    "line1, = plt.plot(scores)\n",
    "line2, = plt.plot(average_scores)\n",
    "plt.legend([line1, line2], [\"Score\", \"Average Score\"])\n",
    "plt.show()"
   ],
   "metadata": {
    "collapsed": false,
    "pycharm": {
     "name": "#%%\n"
    }
   }
  }
 ],
 "metadata": {
  "kernelspec": {
   "name": "pycharm-ef6924e5",
   "language": "python",
   "display_name": "PyCharm (p3-reinforcement-learning)"
  },
  "language_info": {
   "codemirror_mode": {
    "name": "ipython",
    "version": 3
   },
   "file_extension": ".py",
   "mimetype": "text/x-python",
   "name": "python",
   "nbconvert_exporter": "python",
   "pygments_lexer": "ipython3",
   "version": "3.8.5"
  },
  "varInspector": {
   "cols": {
    "lenName": 16,
    "lenType": 16,
    "lenVar": 40
   },
   "kernels_config": {
    "python": {
     "delete_cmd_postfix": "",
     "delete_cmd_prefix": "del ",
     "library": "var_list.py",
     "varRefreshCmd": "print(var_dic_list())"
    },
    "r": {
     "delete_cmd_postfix": ") ",
     "delete_cmd_prefix": "rm(",
     "library": "var_list.r",
     "varRefreshCmd": "cat(var_dic_list()) "
    }
   },
   "types_to_exclude": [
    "module",
    "function",
    "builtin_function_or_method",
    "instance",
    "_Feature"
   ],
   "window_display": false
  }
 },
 "nbformat": 4,
 "nbformat_minor": 4
}