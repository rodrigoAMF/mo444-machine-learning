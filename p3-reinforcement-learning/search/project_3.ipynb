{
 "cells": [
  {
   "cell_type": "markdown",
   "source": [
    "## MO444 Project 3 - Reinforcement Learning\n",
    "\n",
    "* Rodrigo Araújo Marinho Franco - RA: 233569\n",
    "* Felipe Marinho Tavares - RA: 265680\n",
    "\n",
    "### Contributions:\n",
    "* Rodrigo\n",
    " * ...\n",
    "* Felipe\n",
    " * ..."
   ],
   "metadata": {
    "collapsed": false,
    "pycharm": {
     "name": "#%% md\n"
    }
   }
  },
  {
   "cell_type": "markdown",
   "source": [
    "# PART I - Evolutionary Model"
   ],
   "metadata": {
    "collapsed": false,
    "pycharm": {
     "name": "#%% md\n"
    }
   }
  },
  {
   "cell_type": "code",
   "execution_count": null,
   "outputs": [],
   "source": [],
   "metadata": {
    "collapsed": false,
    "pycharm": {
     "name": "#%%\n"
    }
   }
  },
  {
   "cell_type": "markdown",
   "source": [
    "# PART II - Reinforcement Learning"
   ],
   "metadata": {
    "collapsed": false
   }
  },
  {
   "cell_type": "code",
   "execution_count": 1,
   "outputs": [],
   "source": [
    "import random\n",
    "from util import *\n",
    "from collections import deque\n",
    "\n",
    "import numpy as np\n",
    "import matplotlib.pyplot as plt\n",
    "\n",
    "import pacman as pm\n",
    "from pacman import Directions\n",
    "import layout as l\n",
    "import textDisplay\n",
    "import dqnAgent, ghostAgents\n",
    "\n",
    "try:\n",
    "    import boinc\n",
    "    _BOINC_ENABLED = True\n",
    "except:\n",
    "    _BOINC_ENABLED = False"
   ],
   "metadata": {
    "collapsed": false,
    "pycharm": {
     "name": "#%%\n"
    }
   }
  },
  {
   "cell_type": "code",
   "execution_count": 2,
   "outputs": [],
   "source": [
    "class Environment:\n",
    "    def __init__(self, layout=\"mediumClassic\", seed=27):\n",
    "        self.layout = l.getLayout(layout)\n",
    "        state_size = [1, self.layout.height, self.layout.width]\n",
    "        self.beQuiet=True\n",
    "        self.catchExceptions = False\n",
    "        self.rules = pm.ClassicGameRules(timeout=30)\n",
    "        self.pacman = dqnAgent.DQNAgent(state_size, action_size=5, seed=seed)\n",
    "        self.reset()\n",
    "\n",
    "    def reset(self):\n",
    "        self.display = textDisplay.NullGraphics()\n",
    "        self.ghosts = [ghostAgents.RandomGhost(i+1) for i in range(self.layout.getNumGhosts())]\n",
    "        self.agents = [self.pacman] + self.ghosts\n",
    "        self.game = self.rules.newGame(self.layout, self.pacman, self.ghosts,\n",
    "                                       self.display, self.beQuiet, self.catchExceptions)\n",
    "\n",
    "        # inform learning agents of the game start\n",
    "        for i in range(len(self.agents)):\n",
    "            agent = self.game.agents[i]\n",
    "            if not agent:\n",
    "                self.game.mute(i)\n",
    "                # this is a null agent, meaning it failed to load\n",
    "                # the other team wins\n",
    "                print(\"Agent %d failed to load\" % i, file=sys.stderr)\n",
    "                self.game.unmute()\n",
    "                self.game._agentCrash(i, quiet=True)\n",
    "                return\n",
    "\n",
    "        self.agentIndex = self.game.startingIndex\n",
    "        self.numAgents = len(self.game.agents)\n",
    "\n",
    "    def get_current_state(self):\n",
    "        return self.game.state.deepCopy()\n",
    "\n",
    "    def get_reward(self):\n",
    "        return env.game.state.getScore()\n",
    "\n",
    "    def update_game_state(self, action):\n",
    "        # Execute the action\n",
    "        self.game.state = self.game.state.generateSuccessor( self.agentIndex, action )\n",
    "        # Change the display\n",
    "        self.game.display.update( self.game.state.data )\n",
    "        # Allow for game specific conditions (winning, losing, etc.)\n",
    "        self.game.rules.process(self.game.state, self.game)\n",
    "        # Track progress\n",
    "        if self.agentIndex == self.numAgents + 1: self.game.numMoves += 1\n",
    "        # Next agent\n",
    "        self.agentIndex = ( self.agentIndex + 1 ) % self.numAgents\n",
    "\n",
    "        if _BOINC_ENABLED:\n",
    "            boinc.set_fraction_done(self.game.getProgress())\n",
    "\n",
    "    def convert_state_to_image(self, state):\n",
    "        state = str(state).split(\"\\n\")[:-2]\n",
    "        new_state = np.zeros((1, self.layout.height, self.layout.width))\n",
    "        state_dict = {\n",
    "            '%': 0, '.': 225, 'o': 255,\n",
    "            'G': 50, '<': 100, '>': 100,\n",
    "            '^': 100, 'v': 100, ' ': 150,\n",
    "            'P': 100\n",
    "        }\n",
    "\n",
    "        for i in range(self.layout.height):\n",
    "            for j in range(self.layout.width):\n",
    "                new_state[0][i][j] = state_dict[state[i][j]]\n",
    "\n",
    "        #new_state = new_state.reshape(-1)\n",
    "        new_state /= 255.0\n",
    "\n",
    "        return new_state\n",
    "\n",
    "    def get_action_as_number(self, action):\n",
    "        direction_to_action = {\n",
    "            Directions.NORTH: 0,\n",
    "            Directions.SOUTH: 1,\n",
    "            Directions.EAST: 2,\n",
    "            Directions.WEST: 3,\n",
    "            Directions.STOP: 4\n",
    "        }\n",
    "\n",
    "        return direction_to_action[action]\n",
    "\n",
    "    def step(self, eps):\n",
    "        initial_reward = self.get_reward()\n",
    "\n",
    "        for agentIndex, agent in enumerate(self.game.agents):\n",
    "            if not self.done():\n",
    "                state = self.get_current_state()\n",
    "\n",
    "                if agentIndex == 0:\n",
    "                    state_as_image = self.convert_state_to_image(state)\n",
    "                    legal = state.getLegalPacmanActions()\n",
    "                    legal.remove(Directions.STOP)\n",
    "                    action = agent.getAction(state_as_image, legal, eps)\n",
    "                else:\n",
    "                    action = agent.getAction(state)\n",
    "\n",
    "                self.update_game_state(action)\n",
    "\n",
    "                if agentIndex == 0:\n",
    "                    state = state_as_image\n",
    "                    action = self.get_action_as_number(action)\n",
    "                    next_state = self.get_current_state()\n",
    "                    next_state = self.convert_state_to_image(next_state)\n",
    "\n",
    "                    reward = self.get_reward() - initial_reward\n",
    "                    if reward >= 100: reward = 20\n",
    "                    if reward <= -100: reward = -20\n",
    "                    done = self.done()\n",
    "                    agent.step(state, action, reward, next_state, done)\n",
    "\n",
    "    def done(self, fast_check=False):\n",
    "        if not self.game.gameOver:\n",
    "            return False\n",
    "        else:\n",
    "            if fast_check: self.game.display.finish()\n",
    "            return True"
   ],
   "metadata": {
    "collapsed": false,
    "pycharm": {
     "name": "#%%\n"
    }
   }
  },
  {
   "cell_type": "code",
   "execution_count": 3,
   "outputs": [],
   "source": [
    "env = Environment()"
   ],
   "metadata": {
    "collapsed": false,
    "pycharm": {
     "name": "#%%\n"
    }
   }
  },
  {
   "cell_type": "code",
   "execution_count": 4,
   "outputs": [
    {
     "name": "stdout",
     "output_type": "stream",
     "text": [
      "Episode:  1 Average Score: -241.00 Winrate: 0.00%\n",
      "Episode:  100 Average Score: -401.92 Winrate: 0.00%\n",
      "Episode:  200 Average Score: -369.12 Winrate: 0.00%\n",
      "Episode:  300 Average Score: -354.06 Winrate: 0.00%\n",
      "Episode:  400 Average Score: -341.38 Winrate: 0.00%\n",
      "Episode:  500 Average Score: -354.79 Winrate: 0.00%\n",
      "Episode:  600 Average Score: -341.91 Winrate: 0.00%\n",
      "Episode:  700 Average Score: -322.73 Winrate: 0.00%\n",
      "Episode:  800 Average Score: -329.13 Winrate: 0.00%\n",
      "Episode:  900 Average Score: -310.21 Winrate: 0.00%\n",
      "Episode:  1000 Average Score: -302.32 Winrate: 0.00%\n",
      "Episode:  1100 Average Score: -278.50 Winrate: 0.00%\n",
      "Episode:  1200 Average Score: -272.56 Winrate: 0.00%\n",
      "Episode:  1300 Average Score: -298.76 Winrate: 0.00%\n",
      "Episode:  1400 Average Score: -280.60 Winrate: 0.00%\n",
      "Episode:  1500 Average Score: -261.68 Winrate: 0.00%\n",
      "Episode:  1600 Average Score: -255.54 Winrate: 0.00%\n",
      "Episode:  1700 Average Score: -264.35 Winrate: 0.00%\n",
      "Episode:  1800 Average Score: -295.05 Winrate: 0.00%\n",
      "Episode:  1900 Average Score: -250.11 Winrate: 0.00%\n",
      "Episode:  2000 Average Score: -226.20 Winrate: 0.00%\n",
      "Episode:  2100 Average Score: -219.64 Winrate: 0.00%\n",
      "Episode:  2200 Average Score: -238.61 Winrate: 0.00%\n",
      "Episode:  2300 Average Score: -247.98 Winrate: 0.00%\n",
      "Episode:  2400 Average Score: -248.63 Winrate: 0.00%\n",
      "Episode:  2500 Average Score: -237.87 Winrate: 0.00%\n",
      "Episode:  2600 Average Score: -238.16 Winrate: 0.00%\n",
      "Episode:  2700 Average Score: -242.90 Winrate: 0.00%\n",
      "Episode:  2800 Average Score: -229.56 Winrate: 0.00%\n",
      "Episode:  2900 Average Score: -227.51 Winrate: 0.00%\n",
      "Episode:  3000 Average Score: -205.51 Winrate: 0.00%\n",
      "Episode:  3100 Average Score: -223.69 Winrate: 0.00%\n",
      "Episode:  3200 Average Score: -241.23 Winrate: 0.00%\n",
      "Episode:  3300 Average Score: -215.27 Winrate: 0.00%\n",
      "Episode:  3400 Average Score: -235.51 Winrate: 0.00%\n",
      "Episode:  3500 Average Score: -217.79 Winrate: 0.00%\n",
      "Episode:  3600 Average Score: -198.66 Winrate: 0.00%\n",
      "Episode:  3700 Average Score: -227.02 Winrate: 0.00%\n",
      "Episode:  3800 Average Score: -218.15 Winrate: 0.00%\n",
      "Episode:  3900 Average Score: -216.33 Winrate: 0.00%\n",
      "Episode:  4000 Average Score: -246.56 Winrate: 0.00%\n",
      "Episode:  4100 Average Score: -239.41 Winrate: 0.00%\n",
      "Episode:  4200 Average Score: -259.01 Winrate: 0.00%\n",
      "Episode:  4300 Average Score: -247.19 Winrate: 0.00%\n",
      "Episode:  4400 Average Score: -259.38 Winrate: 0.00%\n",
      "Episode:  4500 Average Score: -261.20 Winrate: 0.00%\n",
      "Episode:  4600 Average Score: -260.46 Winrate: 0.00%\n",
      "Episode:  4700 Average Score: -280.47 Winrate: 0.00%\n",
      "Episode:  4800 Average Score: -303.71 Winrate: 0.00%\n",
      "Episode:  4900 Average Score: -286.83 Winrate: 0.00%\n",
      "Episode:  5000 Average Score: -278.39 Winrate: 0.00%\n"
     ]
    },
    {
     "data": {
      "text/plain": "<Figure size 720x360 with 1 Axes>",
      "image/png": "[encoded data removed]"
     },
     "metadata": {
      "needs_background": "light"
     },
     "output_type": "display_data"
    }
   ],
   "source": [
    "wins = []\n",
    "wins_window = deque(maxlen=100)  # last 100 wins\n",
    "scores = []\n",
    "scores_window = deque(maxlen=100)  # last 100 scores\n",
    "average_scores = []\n",
    "\n",
    "eps_start = 1.0\n",
    "eps_end = 0.05\n",
    "eps_decay=0.999\n",
    "eps = eps_start\n",
    "\n",
    "n_episodes = 5000\n",
    "print_every = n_episodes/50\n",
    "for i_episode in range(1, n_episodes + 1):\n",
    "    env.reset()\n",
    "\n",
    "    while not env.done():\n",
    "        env.step(eps)\n",
    "\n",
    "    eps = max(eps_end, eps_decay*eps)\n",
    "\n",
    "    scores.append(env.game.state.getScore())\n",
    "    scores_window.append(env.game.state.getScore())\n",
    "\n",
    "    wins.append(env.game.state.isWin())\n",
    "    wins_window.append(env.game.state.isWin())\n",
    "\n",
    "    average_score = sum(scores_window)/float(len(scores_window))\n",
    "    winrate = sum(wins_window)/float(len(wins_window)) * 100.0\n",
    "    average_scores.append(average_score)\n",
    "\n",
    "    if i_episode == 1 or i_episode % print_every == 0:\n",
    "        print(\"Episode: \", i_episode, end=\" \")\n",
    "        print('Average Score: {:.2f}'.format(average_score), end=\" \")\n",
    "        print('Winrate: {:.2f}%'.format(winrate))\n",
    "\n",
    "plt.figure(figsize=(10, 5))\n",
    "plt.title(\"Scores during training\")\n",
    "line1, = plt.plot(scores)\n",
    "line2, = plt.plot(average_scores)\n",
    "plt.legend([line1, line2], [\"Score\", \"Average Score\"])\n",
    "plt.show()"
   ],
   "metadata": {
    "collapsed": false,
    "pycharm": {
     "name": "#%%\n"
    }
   }
  }
 ],
 "metadata": {
  "kernelspec": {
   "name": "pycharm-ef6924e5",
   "language": "python",
   "display_name": "PyCharm (p3-reinforcement-learning)"
  },
  "language_info": {
   "codemirror_mode": {
    "name": "ipython",
    "version": 3
   },
   "file_extension": ".py",
   "mimetype": "text/x-python",
   "name": "python",
   "nbconvert_exporter": "python",
   "pygments_lexer": "ipython3",
   "version": "3.8.5"
  },
  "varInspector": {
   "cols": {
    "lenName": 16,
    "lenType": 16,
    "lenVar": 40
   },
   "kernels_config": {
    "python": {
     "delete_cmd_postfix": "",
     "delete_cmd_prefix": "del ",
     "library": "var_list.py",
     "varRefreshCmd": "print(var_dic_list())"
    },
    "r": {
     "delete_cmd_postfix": ") ",
     "delete_cmd_prefix": "rm(",
     "library": "var_list.r",
     "varRefreshCmd": "cat(var_dic_list()) "
    }
   },
   "types_to_exclude": [
    "module",
    "function",
    "builtin_function_or_method",
    "instance",
    "_Feature"
   ],
   "window_display": false
  }
 },
 "nbformat": 4,
 "nbformat_minor": 4
}