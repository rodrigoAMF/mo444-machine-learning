{
 "cells": [
  {
   "cell_type": "markdown",
   "source": [
    "## MO444 Project 3 - Reinforcement Learning\n",
    "\n",
    "* Rodrigo Araújo Marinho Franco - RA: 233569\n",
    "* Felipe Marinho Tavares - RA: 265680\n",
    "\n",
    "### Contributions:\n",
    "* Rodrigo\n",
    " * ...\n",
    "* Felipe\n",
    " * ..."
   ],
   "metadata": {
    "collapsed": false,
    "pycharm": {
     "name": "#%% md\n"
    }
   }
  },
  {
   "cell_type": "markdown",
   "source": [
    "# PART I - Evolutionary Model"
   ],
   "metadata": {
    "collapsed": false,
    "pycharm": {
     "name": "#%% md\n"
    }
   }
  },
  {
   "cell_type": "code",
   "execution_count": null,
   "outputs": [],
   "source": [],
   "metadata": {
    "collapsed": false,
    "pycharm": {
     "name": "#%%\n"
    }
   }
  },
  {
   "cell_type": "markdown",
   "source": [
    "# PART II - Reinforcement Learning"
   ],
   "metadata": {
    "collapsed": false
   }
  },
  {
   "cell_type": "code",
   "execution_count": 1,
   "outputs": [],
   "source": [
    "import sys\n",
    "sys.path.append(\"search/\")\n",
    "\n",
    "import torch\n",
    "import matplotlib.pyplot as plt\n",
    "\n",
    "import environment"
   ],
   "metadata": {
    "collapsed": false,
    "pycharm": {
     "name": "#%%\n"
    }
   }
  },
  {
   "cell_type": "markdown",
   "source": [
    "## OriginalClassic Environment - Training"
   ],
   "metadata": {
    "collapsed": false
   }
  },
  {
   "cell_type": "code",
   "execution_count": null,
   "outputs": [
    {
     "name": "stdout",
     "output_type": "stream",
     "text": [
      "Initial state:\n"
     ]
    },
    {
     "data": {
      "text/plain": "<Figure size 432x288 with 1 Axes>",
      "image/png": "[encoded data removed]"
     },
     "metadata": {
      "needs_background": "light"
     },
     "output_type": "display_data"
    },
    {
     "name": "stdout",
     "output_type": "stream",
     "text": [
      "Shape:  (25, 26, 1)\n",
      "Episode:  100 Average Score: 3.70 Winrate: 0.00%\n",
      "Episode:  200 Average Score: 53.01 Winrate: 0.00%\n",
      "Episode:  300 Average Score: 103.40 Winrate: 0.00%\n",
      "Episode:  400 Average Score: 168.12 Winrate: 0.00%\n",
      "Episode:  500 Average Score: 221.99 Winrate: 0.00%\n",
      "Episode:  600 Average Score: 291.82 Winrate: 0.00%\n",
      "Episode:  700 Average Score: 374.08 Winrate: 0.00%\n",
      "Episode:  800 Average Score: 428.78 Winrate: 0.00%\n",
      "Episode:  900 Average Score: 429.08 Winrate: 0.00%\n",
      "Episode:  1000 Average Score: 564.36 Winrate: 0.00%\n",
      "Episode:  1100 Average Score: 584.89 Winrate: 0.00%\n",
      "Episode:  1200 Average Score: 584.13 Winrate: 1.00%\n",
      "Episode:  1300 Average Score: 645.33 Winrate: 1.00%\n",
      "Episode:  1400 Average Score: 640.01 Winrate: 2.00%\n",
      "Episode:  1500 Average Score: 692.53 Winrate: 2.00%\n",
      "Episode:  1600 Average Score: 790.39 Winrate: 3.00%\n",
      "Episode:  1700 Average Score: 819.25 Winrate: 2.00%\n",
      "Episode:  1800 Average Score: 858.72 Winrate: 1.00%\n",
      "Episode:  1900 Average Score: 852.87 Winrate: 1.00%\n",
      "Episode:  2000 Average Score: 904.90 Winrate: 3.00%\n",
      "Episode:  2100 Average Score: 983.27 Winrate: 7.00%\n",
      "Episode:  2200 Average Score: 943.04 Winrate: 5.00%\n",
      "Episode:  2300 Average Score: 1073.43 Winrate: 5.00%\n",
      "Episode:  2400 Average Score: 1115.84 Winrate: 16.00%\n",
      "Episode:  2500 Average Score: 1019.82 Winrate: 12.00%\n",
      "Episode:  2600 Average Score: 1079.81 Winrate: 14.00%\n",
      "Episode:  2700 Average Score: 1047.89 Winrate: 10.00%\n",
      "Episode:  2800 Average Score: 1051.69 Winrate: 12.00%\n",
      "Episode:  2900 Average Score: 1157.83 Winrate: 23.00%\n",
      "Episode:  3000 Average Score: 1128.24 Winrate: 17.00%\n",
      "Episode:  3100 Average Score: 1115.20 Winrate: 16.00%\n",
      "Episode:  3200 Average Score: 1150.66 Winrate: 19.00%\n",
      "Episode:  3300 Average Score: 1149.62 Winrate: 17.00%\n",
      "Episode:  3400 Average Score: 1153.24 Winrate: 16.00%\n",
      "Episode:  3500 Average Score: 1129.09 Winrate: 12.00%\n",
      "Episode:  3600 Average Score: 1095.91 Winrate: 14.00%\n",
      "Episode:  3700 Average Score: 1154.01 Winrate: 14.00%\n",
      "Episode:  3800 Average Score: 1091.15 Winrate: 13.00%\n",
      "Episode:  3900 Average Score: 1021.75 Winrate: 8.00%\n",
      "Episode:  4000 Average Score: 1037.27 Winrate: 9.00%\n",
      "Episode:  4100 Average Score: 1050.11 Winrate: 7.00%\n",
      "Episode:  4200 Average Score: 967.12 Winrate: 7.00%\n",
      "Episode:  4300 Average Score: 1009.69 Winrate: 9.00%\n"
     ]
    }
   ],
   "source": [
    "params = {\n",
    "    \"buffer_size\": int(1e5),  # replay buffer size\n",
    "    \"batch_size\": 32,        # minibatch size\n",
    "    \"gamma\": 0.99,            # discount factor\n",
    "    \"tau\": 1e-3,              # for soft update of target parameters\n",
    "    \"lr\": 2e-3,               # learning rate\n",
    "    \"weight_decay\": 0.0001,   # Adam parameter\n",
    "    \"update_every\": 10         # how often to update the network\n",
    "}\n",
    "\n",
    "# layouts = smallClassic, mediumClassic, originalClassic\n",
    "env = environment.Environment(params, layout=\"originalClassic\", use_features=True)\n",
    "\n",
    "eps_start = 1.0   # Starting exploration rate\n",
    "eps_end = 0.05    # Minimun exploration rate (0.05 = 5%)\n",
    "eps_decay=0.999\n",
    "n_episodes = 10000\n",
    "print_every = 100 # episodes\n",
    "patience = 10     # max print_every without improvement tolarated\n",
    "checkpoints_without_improvement = 0\n",
    "\n",
    "eps = eps_start\n",
    "best_score = -1000\n",
    "for i_episode in range(1, n_episodes + 1):\n",
    "    env.reset()\n",
    "\n",
    "    while not env.done():\n",
    "        env.step(eps)\n",
    "\n",
    "    eps = max(eps_end, eps_decay*eps)\n",
    "\n",
    "    env.scores.append(env.game.state.getScore())\n",
    "    env.scores_window.append(env.game.state.getScore())\n",
    "\n",
    "    env.wins.append(env.game.state.isWin())\n",
    "    env.wins_window.append(env.game.state.isWin())\n",
    "\n",
    "    average_score = sum(env.scores_window)/float(len(env.scores_window))\n",
    "    winrate = sum(env.wins_window)/float(len(env.wins_window)) * 100.0\n",
    "    env.average_scores.append(average_score)\n",
    "\n",
    "    if i_episode % print_every == 0:\n",
    "        print(\"Episode: \", i_episode, end=\" \")\n",
    "        print('Average Score: {:.2f}'.format(average_score), end=\" \")\n",
    "        print('Winrate: {:.2f}%'.format(winrate))\n",
    "\n",
    "        if average_score > best_score:\n",
    "            checkpoints_without_improvement = 0\n",
    "            best_score = average_score\n",
    "            torch.save(env.pacman.qnetwork_local.state_dict(), 'models/checkpoint_original.pth')\n",
    "        else:\n",
    "            checkpoints_without_improvement += 1\n",
    "            if checkpoints_without_improvement == patience:\n",
    "                print(\"Stopping training due to lack of improvement\")\n",
    "                break\n",
    "\n",
    "plt.figure(figsize=(10, 5))\n",
    "plt.title(\"Scores during training\")\n",
    "line1, = plt.plot(env.scores)\n",
    "line2, = plt.plot(env.average_scores)\n",
    "plt.legend([line1, line2], [\"Score\", \"Average Score\"])\n",
    "plt.show()"
   ],
   "metadata": {
    "collapsed": false,
    "pycharm": {
     "name": "#%%\n",
     "is_executing": true
    }
   }
  }
 ],
 "metadata": {
  "kernelspec": {
   "name": "pycharm-ef6924e5",
   "language": "python",
   "display_name": "PyCharm (p3-reinforcement-learning)"
  },
  "language_info": {
   "codemirror_mode": {
    "name": "ipython",
    "version": 3
   },
   "file_extension": ".py",
   "mimetype": "text/x-python",
   "name": "python",
   "nbconvert_exporter": "python",
   "pygments_lexer": "ipython3",
   "version": "3.8.5"
  },
  "varInspector": {
   "cols": {
    "lenName": 16,
    "lenType": 16,
    "lenVar": 40
   },
   "kernels_config": {
    "python": {
     "delete_cmd_postfix": "",
     "delete_cmd_prefix": "del ",
     "library": "var_list.py",
     "varRefreshCmd": "print(var_dic_list())"
    },
    "r": {
     "delete_cmd_postfix": ") ",
     "delete_cmd_prefix": "rm(",
     "library": "var_list.r",
     "varRefreshCmd": "cat(var_dic_list()) "
    }
   },
   "types_to_exclude": [
    "module",
    "function",
    "builtin_function_or_method",
    "instance",
    "_Feature"
   ],
   "window_display": false
  }
 },
 "nbformat": 4,
 "nbformat_minor": 4
}