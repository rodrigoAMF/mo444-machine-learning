{
 "cells": [
  {
   "cell_type": "markdown",
   "source": [
    "## MO444 Project 3 - Reinforcement Learning\n",
    "\n",
    "* Rodrigo Araújo Marinho Franco - RA: 233569\n",
    "* Felipe Marinho Tavares - RA: 265680\n",
    "\n",
    "### Contributions:\n",
    "* Rodrigo\n",
    " * ...\n",
    "* Felipe\n",
    " * ..."
   ],
   "metadata": {
    "collapsed": false,
    "pycharm": {
     "name": "#%% md\n"
    }
   }
  },
  {
   "cell_type": "markdown",
   "source": [
    "# PART I - Evolutionary Model"
   ],
   "metadata": {
    "collapsed": false,
    "pycharm": {
     "name": "#%% md\n"
    }
   }
  },
  {
   "cell_type": "code",
   "execution_count": null,
   "outputs": [],
   "source": [],
   "metadata": {
    "collapsed": false,
    "pycharm": {
     "name": "#%%\n"
    }
   }
  },
  {
   "cell_type": "markdown",
   "source": [
    "# PART II - Reinforcement Learning"
   ],
   "metadata": {
    "collapsed": false
   }
  },
  {
   "cell_type": "code",
   "execution_count": 1,
   "outputs": [],
   "source": [
    "import sys\n",
    "sys.path.append(\"search/\")\n",
    "import environment\n",
    "\n",
    "import matplotlib.pyplot as plt"
   ],
   "metadata": {
    "collapsed": false,
    "pycharm": {
     "name": "#%%\n"
    }
   }
  },
  {
   "cell_type": "markdown",
   "source": [
    "## Medium Environment - Training"
   ],
   "metadata": {
    "collapsed": false
   }
  },
  {
   "cell_type": "code",
   "execution_count": 2,
   "outputs": [
    {
     "name": "stdout",
     "output_type": "stream",
     "text": [
      "Linear layer input size:  640\n",
      "Linear layer input size:  640\n",
      "Initial state:\n"
     ]
    },
    {
     "data": {
      "text/plain": "<Figure size 432x288 with 1 Axes>",
      "image/png": "[encoded data removed]"
     },
     "metadata": {
      "needs_background": "light"
     },
     "output_type": "display_data"
    },
    {
     "name": "stdout",
     "output_type": "stream",
     "text": [
      "Shape:  (9, 18, 1)\n",
      "Episode:  100 Average Score: -5.66 Winrate: 0.00%\n",
      "Episode:  200 Average Score: 5.74 Winrate: 0.00%\n",
      "Episode:  300 Average Score: 9.83 Winrate: 0.00%\n",
      "Episode:  400 Average Score: 11.13 Winrate: 0.00%\n",
      "Episode:  500 Average Score: 8.66 Winrate: 0.00%\n",
      "Episode:  600 Average Score: 11.50 Winrate: 0.00%\n",
      "Episode:  700 Average Score: 3.03 Winrate: 0.00%\n",
      "Episode:  800 Average Score: 0.66 Winrate: 0.00%\n",
      "Episode:  900 Average Score: 0.85 Winrate: 0.00%\n",
      "Episode:  1000 Average Score: -1.58 Winrate: 0.00%\n",
      "Episode:  1100 Average Score: 2.81 Winrate: 0.00%\n",
      "Episode:  1200 Average Score: -9.06 Winrate: 0.00%\n",
      "Episode:  1300 Average Score: -7.05 Winrate: 0.00%\n",
      "Episode:  1400 Average Score: -10.47 Winrate: 0.00%\n",
      "Episode:  1500 Average Score: -17.48 Winrate: 0.00%\n",
      "Episode:  1600 Average Score: -9.96 Winrate: 0.00%\n",
      "Episode:  1700 Average Score: -14.32 Winrate: 0.00%\n",
      "Episode:  1800 Average Score: -9.38 Winrate: 0.00%\n",
      "Episode:  1900 Average Score: -16.51 Winrate: 0.00%\n",
      "Episode:  2000 Average Score: -16.78 Winrate: 0.00%\n",
      "Episode:  2100 Average Score: -15.25 Winrate: 0.00%\n",
      "Episode:  2200 Average Score: -15.48 Winrate: 0.00%\n",
      "Episode:  2300 Average Score: -20.35 Winrate: 0.00%\n",
      "Episode:  2400 Average Score: -15.41 Winrate: 0.00%\n",
      "Episode:  2500 Average Score: -11.84 Winrate: 0.00%\n",
      "Episode:  2600 Average Score: -14.86 Winrate: 0.00%\n",
      "Episode:  2700 Average Score: -14.74 Winrate: 0.00%\n",
      "Episode:  2800 Average Score: -11.41 Winrate: 0.00%\n",
      "Episode:  2900 Average Score: -20.57 Winrate: 0.00%\n",
      "Episode:  3000 Average Score: -13.84 Winrate: 0.00%\n",
      "Episode:  3100 Average Score: -13.62 Winrate: 0.00%\n",
      "Episode:  3200 Average Score: -20.73 Winrate: 0.00%\n",
      "Episode:  3300 Average Score: -18.54 Winrate: 0.00%\n",
      "Episode:  3400 Average Score: -14.33 Winrate: 0.00%\n",
      "Episode:  3500 Average Score: -7.30 Winrate: 0.00%\n",
      "Episode:  3600 Average Score: -11.70 Winrate: 0.00%\n",
      "Episode:  3700 Average Score: -2.99 Winrate: 0.00%\n",
      "Episode:  3800 Average Score: 2.37 Winrate: 0.00%\n",
      "Episode:  3900 Average Score: -1.01 Winrate: 0.00%\n",
      "Episode:  4000 Average Score: 13.16 Winrate: 0.00%\n",
      "Episode:  4100 Average Score: 2.46 Winrate: 0.00%\n",
      "Episode:  4200 Average Score: 18.18 Winrate: 0.00%\n",
      "Episode:  4300 Average Score: 14.45 Winrate: 0.00%\n",
      "Episode:  4400 Average Score: 16.78 Winrate: 0.00%\n",
      "Episode:  4500 Average Score: 10.46 Winrate: 0.00%\n",
      "Episode:  4600 Average Score: 17.16 Winrate: 0.00%\n",
      "Episode:  4700 Average Score: 21.80 Winrate: 0.00%\n",
      "Episode:  4800 Average Score: 25.46 Winrate: 0.00%\n",
      "Episode:  4900 Average Score: 23.17 Winrate: 0.00%\n",
      "Episode:  5000 Average Score: 20.35 Winrate: 0.00%\n",
      "Episode:  5100 Average Score: 30.52 Winrate: 0.00%\n",
      "Episode:  5200 Average Score: 27.25 Winrate: 0.00%\n",
      "Episode:  5300 Average Score: 37.95 Winrate: 0.00%\n",
      "Episode:  5400 Average Score: 50.29 Winrate: 0.00%\n",
      "Episode:  5500 Average Score: 63.56 Winrate: 0.00%\n",
      "Episode:  5600 Average Score: 74.82 Winrate: 0.00%\n",
      "Episode:  5700 Average Score: 80.46 Winrate: 0.00%\n",
      "Episode:  5800 Average Score: 64.55 Winrate: 0.00%\n",
      "Episode:  5900 Average Score: 60.82 Winrate: 0.00%\n",
      "Episode:  6000 Average Score: 67.28 Winrate: 0.00%\n",
      "Episode:  6100 Average Score: 50.31 Winrate: 0.00%\n",
      "Episode:  6200 Average Score: 60.98 Winrate: 0.00%\n",
      "Episode:  6300 Average Score: 58.23 Winrate: 0.00%\n",
      "Episode:  6400 Average Score: 58.92 Winrate: 0.00%\n",
      "Episode:  6500 Average Score: 79.80 Winrate: 0.00%\n",
      "Episode:  6600 Average Score: 60.79 Winrate: 0.00%\n",
      "Episode:  6700 Average Score: 75.86 Winrate: 0.00%\n",
      "Episode:  6800 Average Score: 62.31 Winrate: 0.00%\n",
      "Episode:  6900 Average Score: 63.98 Winrate: 0.00%\n",
      "Episode:  7000 Average Score: 65.10 Winrate: 0.00%\n",
      "Episode:  7100 Average Score: 89.97 Winrate: 0.00%\n",
      "Episode:  7200 Average Score: 71.55 Winrate: 0.00%\n",
      "Episode:  7300 Average Score: 52.07 Winrate: 0.00%\n",
      "Episode:  7400 Average Score: 50.66 Winrate: 0.00%\n",
      "Episode:  7500 Average Score: 59.09 Winrate: 0.00%\n",
      "Episode:  7600 Average Score: 86.72 Winrate: 0.00%\n",
      "Episode:  7700 Average Score: 74.48 Winrate: 0.00%\n",
      "Episode:  7800 Average Score: 87.47 Winrate: 0.00%\n",
      "Episode:  7900 Average Score: 82.94 Winrate: 0.00%\n",
      "Episode:  8000 Average Score: 73.48 Winrate: 0.00%\n",
      "Episode:  8100 Average Score: 70.72 Winrate: 0.00%\n",
      "Episode:  8200 Average Score: 77.00 Winrate: 0.00%\n",
      "Episode:  8300 Average Score: 76.07 Winrate: 0.00%\n",
      "Episode:  8400 Average Score: 74.29 Winrate: 0.00%\n",
      "Episode:  8500 Average Score: 86.57 Winrate: 0.00%\n",
      "Episode:  8600 Average Score: 85.70 Winrate: 0.00%\n",
      "Episode:  8700 Average Score: 65.11 Winrate: 0.00%\n",
      "Episode:  8800 Average Score: 77.73 Winrate: 0.00%\n",
      "Episode:  8900 Average Score: 69.65 Winrate: 0.00%\n",
      "Episode:  9000 Average Score: 70.31 Winrate: 0.00%\n",
      "Episode:  9100 Average Score: 87.51 Winrate: 0.00%\n",
      "Episode:  9200 Average Score: 61.56 Winrate: 0.00%\n",
      "Episode:  9300 Average Score: 62.64 Winrate: 0.00%\n",
      "Episode:  9400 Average Score: 63.84 Winrate: 0.00%\n",
      "Episode:  9500 Average Score: 67.73 Winrate: 0.00%\n",
      "Episode:  9600 Average Score: 68.31 Winrate: 0.00%\n",
      "Episode:  9700 Average Score: 76.91 Winrate: 0.00%\n",
      "Episode:  9800 Average Score: 67.79 Winrate: 0.00%\n",
      "Episode:  9900 Average Score: 77.52 Winrate: 0.00%\n",
      "Episode:  10000 Average Score: 77.12 Winrate: 0.00%\n"
     ]
    },
    {
     "data": {
      "text/plain": "<Figure size 720x360 with 1 Axes>",
      "image/png": "[encoded data removed]"
     },
     "metadata": {
      "needs_background": "light"
     },
     "output_type": "display_data"
    }
   ],
   "source": [
    "params = {\n",
    "    \"buffer_size\": int(1e5),  # replay buffer size\n",
    "    \"batch_size\": 128,        # minibatch size\n",
    "    \"gamma\": 0.99,            # discount factor\n",
    "    \"tau\": 1e-6,              # for soft update of target parameters\n",
    "    \"lr\": 1e-6,               # learning rate\n",
    "    \"weight_decay\": 0.0001,   # Adam parameter\n",
    "    \"update_every\": 5         # how often to update the network\n",
    "}\n",
    "\n",
    "# layouts = SmallClassic, MediumClassic, OriginalClassic\n",
    "env = environment.Environment(params, layout=\"mediumClassic\")\n",
    "\n",
    "eps_start = 1.0   # Starting exploration rate\n",
    "eps_end = 0.05    # Minimun exploration rate (0.05 = 5%)\n",
    "eps_decay=0.999\n",
    "n_episodes = 10000\n",
    "print_every = 100 # episodes\n",
    "\n",
    "eps = eps_start\n",
    "for i_episode in range(1, n_episodes + 1):\n",
    "    env.reset()\n",
    "\n",
    "    while not env.done():\n",
    "        env.step(eps)\n",
    "\n",
    "    eps = max(eps_end, eps_decay*eps)\n",
    "\n",
    "    env.scores.append(env.game.state.getScore())\n",
    "    env.scores_window.append(env.game.state.getScore())\n",
    "\n",
    "    env.wins.append(env.game.state.isWin())\n",
    "    env.wins_window.append(env.game.state.isWin())\n",
    "\n",
    "    average_score = sum(env.scores_window)/float(len(env.scores_window))\n",
    "    winrate = sum(env.wins_window)/float(len(env.wins_window)) * 100.0\n",
    "    env.average_scores.append(average_score)\n",
    "\n",
    "    if i_episode % print_every == 0:\n",
    "        print(\"Episode: \", i_episode, end=\" \")\n",
    "        print('Average Score: {:.2f}'.format(average_score), end=\" \")\n",
    "        print('Winrate: {:.2f}%'.format(winrate))\n",
    "\n",
    "plt.figure(figsize=(10, 5))\n",
    "plt.title(\"Scores during training\")\n",
    "line1, = plt.plot(env.scores)\n",
    "line2, = plt.plot(env.average_scores)\n",
    "plt.legend([line1, line2], [\"Score\", \"Average Score\"])\n",
    "plt.show()"
   ],
   "metadata": {
    "collapsed": false,
    "pycharm": {
     "name": "#%%\n"
    }
   }
  }
 ],
 "metadata": {
  "kernelspec": {
   "name": "pycharm-ef6924e5",
   "language": "python",
   "display_name": "PyCharm (p3-reinforcement-learning)"
  },
  "language_info": {
   "codemirror_mode": {
    "name": "ipython",
    "version": 3
   },
   "file_extension": ".py",
   "mimetype": "text/x-python",
   "name": "python",
   "nbconvert_exporter": "python",
   "pygments_lexer": "ipython3",
   "version": "3.8.5"
  },
  "varInspector": {
   "cols": {
    "lenName": 16,
    "lenType": 16,
    "lenVar": 40
   },
   "kernels_config": {
    "python": {
     "delete_cmd_postfix": "",
     "delete_cmd_prefix": "del ",
     "library": "var_list.py",
     "varRefreshCmd": "print(var_dic_list())"
    },
    "r": {
     "delete_cmd_postfix": ") ",
     "delete_cmd_prefix": "rm(",
     "library": "var_list.r",
     "varRefreshCmd": "cat(var_dic_list()) "
    }
   },
   "types_to_exclude": [
    "module",
    "function",
    "builtin_function_or_method",
    "instance",
    "_Feature"
   ],
   "window_display": false
  }
 },
 "nbformat": 4,
 "nbformat_minor": 4
}