{
 "cells": [
  {
   "cell_type": "markdown",
   "source": [
    "## MO444 Project 3 - Reinforcement Learning\n",
    "\n",
    "* Rodrigo Araújo Marinho Franco - RA: 233569\n",
    "* Felipe Marinho Tavares - RA: 265680\n",
    "\n",
    "### Contributions:\n",
    "* Rodrigo\n",
    " * ...\n",
    "* Felipe\n",
    " * ..."
   ],
   "metadata": {
    "collapsed": false,
    "pycharm": {
     "name": "#%% md\n"
    }
   }
  },
  {
   "cell_type": "markdown",
   "source": [
    "# PART I - Evolutionary Model"
   ],
   "metadata": {
    "collapsed": false,
    "pycharm": {
     "name": "#%% md\n"
    }
   }
  },
  {
   "cell_type": "code",
   "execution_count": null,
   "outputs": [],
   "source": [],
   "metadata": {
    "collapsed": false,
    "pycharm": {
     "name": "#%%\n"
    }
   }
  },
  {
   "cell_type": "markdown",
   "source": [
    "# PART II - Reinforcement Learning"
   ],
   "metadata": {
    "collapsed": false
   }
  },
  {
   "cell_type": "code",
   "execution_count": 1,
   "outputs": [],
   "source": [
    "import sys\n",
    "sys.path.append(\"search/\")\n",
    "\n",
    "import torch\n",
    "import numpy as np\n",
    "import matplotlib.pyplot as plt\n",
    "import sklearn.preprocessing\n",
    "import sklearn.pipeline\n",
    "from sklearn.kernel_approximation import RBFSampler\n",
    "\n",
    "import environment\n"
   ],
   "metadata": {
    "collapsed": false,
    "pycharm": {
     "name": "#%%\n"
    }
   }
  },
  {
   "cell_type": "code",
   "execution_count": 2,
   "outputs": [
    {
     "name": "stdout",
     "output_type": "stream",
     "text": [
      "Initial state:\n"
     ]
    },
    {
     "data": {
      "text/plain": "<Figure size 432x288 with 1 Axes>",
      "image/png": "[encoded data removed]"
     },
     "metadata": {
      "needs_background": "light"
     },
     "output_type": "display_data"
    },
    {
     "name": "stdout",
     "output_type": "stream",
     "text": [
      "Shape:  (5, 18, 1)\n"
     ]
    }
   ],
   "source": [
    "env = environment.Environment(params=None,\n",
    "                              layout=\"smallClassic\",\n",
    "                              pacman_algorithm=\"Greedy\",\n",
    "                              use_features=True,\n",
    "                              save_states=True)\n",
    "\n",
    "number_examples = 0\n",
    "example_states = []\n",
    "\n",
    "while number_examples < 10000:\n",
    "    env.reset()\n",
    "    while not env.done():\n",
    "        env.step(0)\n",
    "    example_states.extend(env.states)\n",
    "    number_examples = len(example_states)\n",
    "\n",
    "example_states = np.array(example_states)"
   ],
   "metadata": {
    "collapsed": false,
    "pycharm": {
     "name": "#%%\n"
    }
   }
  },
  {
   "cell_type": "code",
   "execution_count": 3,
   "outputs": [
    {
     "data": {
      "text/plain": "StandardScaler()"
     },
     "execution_count": 3,
     "metadata": {},
     "output_type": "execute_result"
    }
   ],
   "source": [
    "# Feature Preprocessing: Normalize to zero mean and unit variance\n",
    "# We use a few samples from the observation space to do this\n",
    "scaler = sklearn.preprocessing.StandardScaler()\n",
    "scaler.fit(example_states)"
   ],
   "metadata": {
    "collapsed": false,
    "pycharm": {
     "name": "#%%\n"
    }
   }
  },
  {
   "cell_type": "markdown",
   "source": [
    "## SmallClassic Environment - Training"
   ],
   "metadata": {
    "collapsed": false
   }
  },
  {
   "cell_type": "code",
   "execution_count": 4,
   "outputs": [
    {
     "name": "stdout",
     "output_type": "stream",
     "text": [
      "Initial state:\n"
     ]
    },
    {
     "data": {
      "text/plain": "<Figure size 432x288 with 1 Axes>",
      "image/png": "[encoded data removed]"
     },
     "metadata": {
      "needs_background": "light"
     },
     "output_type": "display_data"
    },
    {
     "name": "stdout",
     "output_type": "stream",
     "text": [
      "Shape:  (5, 18, 1)\n"
     ]
    }
   ],
   "source": [
    "params = {\n",
    "    \"buffer_size\": int(1e5),  # replay buffer size\n",
    "    \"batch_size\": 32,        # minibatch size\n",
    "    \"gamma\": 0.99,            # discount factor\n",
    "    \"tau\": 1e-3,              # for soft update of target parameters\n",
    "    \"lr\": 1e-3,               # learning rate\n",
    "    \"weight_decay\": 0.0001,   # Adam parameter\n",
    "    \"update_every\": 4       # how often to update the network\n",
    "}\n",
    "\n",
    "# layouts = smallClassic, mediumClassic, originalClassic\n",
    "env = environment.Environment(params,\n",
    "                              layout=\"smallClassic\",\n",
    "                              pacman_algorithm=\"ApproxQLearning\",\n",
    "                              use_features=True,\n",
    "                              number_features=16,\n",
    "                              scaler=scaler)"
   ],
   "metadata": {
    "collapsed": false,
    "pycharm": {
     "name": "#%%\n"
    }
   }
  },
  {
   "cell_type": "code",
   "execution_count": 5,
   "outputs": [
    {
     "name": "stdout",
     "output_type": "stream",
     "text": [
      "Episode:  100 Average Score: -417.96 Winrate: 0.00% New best score! \n",
      "Episode:  200 Average Score: -420.82 Winrate: 0.00% Patience: 1\n",
      "Episode:  300 Average Score: -408.58 Winrate: 0.00% New best score! \n",
      "Episode:  400 Average Score: -410.18 Winrate: 0.00% Patience: 1\n",
      "Episode:  500 Average Score: -419.69 Winrate: 0.00% Patience: 2\n",
      "Episode:  600 Average Score: -415.87 Winrate: 0.00% Patience: 3\n",
      "Episode:  700 Average Score: -431.12 Winrate: 0.00% Patience: 4\n",
      "Episode:  800 Average Score: -399.68 Winrate: 0.00% New best score! \n",
      "Episode:  900 Average Score: -418.05 Winrate: 0.00% Patience: 1\n",
      "Episode:  1000 Average Score: -412.16 Winrate: 0.00% Patience: 2\n",
      "Episode:  1100 Average Score: -416.17 Winrate: 0.00% Patience: 3\n",
      "Episode:  1200 Average Score: -417.83 Winrate: 0.00% Patience: 4\n",
      "Episode:  1300 Average Score: -414.58 Winrate: 0.00% Patience: 5\n",
      "Episode:  1400 Average Score: -418.22 Winrate: 0.00% Patience: 6\n",
      "Episode:  1500 Average Score: -423.36 Winrate: 0.00% Patience: 7\n",
      "Episode:  1600 Average Score: -406.53 Winrate: 0.00% Patience: 8\n",
      "Episode:  1700 Average Score: -402.96 Winrate: 0.00% Patience: 9\n",
      "Episode:  1800 Average Score: -413.47 Winrate: 0.00% Patience: 10\n",
      "Episode:  1900 Average Score: -421.31 Winrate: 0.00% Patience: 11\n",
      "Episode:  2000 Average Score: -412.12 Winrate: 0.00% Patience: 12\n",
      "Episode:  2100 Average Score: -425.47 Winrate: 0.00% Patience: 13\n",
      "Episode:  2200 Average Score: -418.32 Winrate: 0.00% Patience: 14\n",
      "Episode:  2300 Average Score: -427.67 Winrate: 0.00% \n",
      "Stopping training due to lack of improvement\n"
     ]
    },
    {
     "data": {
      "text/plain": "<Figure size 720x360 with 1 Axes>",
      "image/png": "[encoded data removed]"
     },
     "metadata": {
      "needs_background": "light"
     },
     "output_type": "display_data"
    },
    {
     "data": {
      "text/plain": "<Figure size 720x360 with 1 Axes>",
      "image/png": "[encoded data removed]"
     },
     "metadata": {
      "needs_background": "light"
     },
     "output_type": "display_data"
    }
   ],
   "source": [
    "eps_start = 0.1   # Starting exploration rate\n",
    "eps_end = 0.1    # Minimun exploration rate (0.1 = 10%)\n",
    "eps_decay=0.999\n",
    "n_episodes = 5000\n",
    "print_every = 100 # episodes\n",
    "patience = 15    # max print_every without improvement tolarated\n",
    "checkpoints_without_improvement = 0\n",
    "\n",
    "eps = eps_start\n",
    "best_score = -1000\n",
    "for i_episode in range(1, n_episodes + 1):\n",
    "    env.reset()\n",
    "\n",
    "    while not env.done():\n",
    "        env.step(eps)\n",
    "\n",
    "    eps = max(eps_end, eps_decay*eps)\n",
    "\n",
    "    env.scores.append(env.game.state.getScore())\n",
    "    env.scores_window.append(env.game.state.getScore())\n",
    "\n",
    "    env.wins.append(env.game.state.isWin())\n",
    "    env.wins_window.append(env.game.state.isWin())\n",
    "\n",
    "    average_score = sum(env.scores_window)/float(len(env.scores_window))\n",
    "    winrate = sum(env.wins_window)/float(len(env.wins_window)) * 100.0\n",
    "    env.average_scores.append(average_score)\n",
    "    env.average_wins.append(winrate)\n",
    "\n",
    "    if i_episode % print_every == 0:\n",
    "        print(\"Episode: \", i_episode, end=\" \")\n",
    "        print('Average Score: {:.2f}'.format(average_score), end=\" \")\n",
    "        print('Winrate: {:.2f}%'.format(winrate), end=\" \")\n",
    "\n",
    "        if i_episode % 5000 == 0:\n",
    "            env.pacman.optimizer.param_groups[0]['lr'] *= 0.5\n",
    "            print(\"< Updating LR to: {:.6f}\".format(env.pacman.optimizer.param_groups[0]['lr']), end=\" \")\n",
    "\n",
    "        if average_score > best_score:\n",
    "            checkpoints_without_improvement = 0\n",
    "            best_score = average_score\n",
    "            print(\"New best score!\".format(best_score), end=\" \")\n",
    "            # torch.save(env.pacman.qnetwork_local.state_dict(), 'models/checkpoint_small.pth')\n",
    "        else:\n",
    "            checkpoints_without_improvement += 1\n",
    "            if checkpoints_without_improvement == patience:\n",
    "                print(\"\\nStopping training due to lack of improvement\")\n",
    "                break\n",
    "        if checkpoints_without_improvement > 0:\n",
    "            print(\"Patience: {:}\".format(checkpoints_without_improvement))\n",
    "        else:\n",
    "            print()\n",
    "\n",
    "plt.figure(figsize=(10, 5))\n",
    "plt.title(\"Scores during training\")\n",
    "plt.xlabel('Episode')\n",
    "plt.ylabel('Score')\n",
    "line1, = plt.plot(env.scores)\n",
    "line2, = plt.plot(env.average_scores)\n",
    "plt.legend([line1, line2], [\"Score\", \"Average Score\"])\n",
    "plt.show()\n",
    "\n",
    "plt.figure(figsize=(10, 5))\n",
    "plt.title(\"Wins during training\")\n",
    "plt.xlabel('Episode')\n",
    "plt.ylabel('Number of Wins')\n",
    "line1, = plt.plot(env.average_wins)\n",
    "plt.legend([line1], [\"Average Wins\"])\n",
    "plt.show()"
   ],
   "metadata": {
    "collapsed": false,
    "pycharm": {
     "name": "#%%\n"
    }
   }
  }
 ],
 "metadata": {
  "kernelspec": {
   "name": "pycharm-ef6924e5",
   "language": "python",
   "display_name": "PyCharm (p3-reinforcement-learning)"
  },
  "language_info": {
   "codemirror_mode": {
    "name": "ipython",
    "version": 3
   },
   "file_extension": ".py",
   "mimetype": "text/x-python",
   "name": "python",
   "nbconvert_exporter": "python",
   "pygments_lexer": "ipython3",
   "version": "3.8.5"
  },
  "varInspector": {
   "cols": {
    "lenName": 16,
    "lenType": 16,
    "lenVar": 40
   },
   "kernels_config": {
    "python": {
     "delete_cmd_postfix": "",
     "delete_cmd_prefix": "del ",
     "library": "var_list.py",
     "varRefreshCmd": "print(var_dic_list())"
    },
    "r": {
     "delete_cmd_postfix": ") ",
     "delete_cmd_prefix": "rm(",
     "library": "var_list.r",
     "varRefreshCmd": "cat(var_dic_list()) "
    }
   },
   "types_to_exclude": [
    "module",
    "function",
    "builtin_function_or_method",
    "instance",
    "_Feature"
   ],
   "window_display": false
  }
 },
 "nbformat": 4,
 "nbformat_minor": 4
}